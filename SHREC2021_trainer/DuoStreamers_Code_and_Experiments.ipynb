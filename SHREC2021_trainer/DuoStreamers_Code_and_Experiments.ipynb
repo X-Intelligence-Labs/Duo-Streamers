{
  "cells": [
    {
      "cell_type": "markdown",
      "source": [
        "## Import and install"
      ],
      "metadata": {
        "id": "12kGdBQL_d_9"
      }
    },
    {
      "cell_type": "code",
      "execution_count": null,
      "metadata": {
        "colab": {
          "base_uri": "https://localhost:8080/"
        },
        "id": "Efgvaa9CeMJ1",
        "outputId": "5990e1a1-17e5-465f-98c9-9edf35869cd5"
      },
      "outputs": [
        {
          "output_type": "stream",
          "name": "stdout",
          "text": [
            "Mounted at /content/drive\n"
          ]
        }
      ],
      "source": [
        "#mount google drive to access the dataset\n",
        "from google.colab import drive\n",
        "drive.mount('/content/drive')"
      ]
    },
    {
      "cell_type": "code",
      "execution_count": null,
      "metadata": {
        "colab": {
          "base_uri": "https://localhost:8080/"
        },
        "id": "Lksed_yE2ghB",
        "outputId": "e78ddff2-a66a-49be-efd0-d90ac427e4e9"
      },
      "outputs": [
        {
          "output_type": "stream",
          "name": "stdout",
          "text": [
            "Collecting torchtnt\n",
            "  Downloading torchtnt-0.2.4-py3-none-any.whl.metadata (3.1 kB)\n",
            "Requirement already satisfied: torch in /usr/local/lib/python3.10/dist-packages (from torchtnt) (2.5.1+cu121)\n",
            "Requirement already satisfied: numpy in /usr/local/lib/python3.10/dist-packages (from torchtnt) (1.26.4)\n",
            "Requirement already satisfied: fsspec in /usr/local/lib/python3.10/dist-packages (from torchtnt) (2024.10.0)\n",
            "Requirement already satisfied: tensorboard in /usr/local/lib/python3.10/dist-packages (from torchtnt) (2.17.1)\n",
            "Requirement already satisfied: packaging in /usr/local/lib/python3.10/dist-packages (from torchtnt) (24.2)\n",
            "Requirement already satisfied: psutil in /usr/local/lib/python3.10/dist-packages (from torchtnt) (5.9.5)\n",
            "Collecting pyre-extensions (from torchtnt)\n",
            "  Downloading pyre_extensions-0.0.32-py3-none-any.whl.metadata (4.0 kB)\n",
            "Requirement already satisfied: typing-extensions in /usr/local/lib/python3.10/dist-packages (from torchtnt) (4.12.2)\n",
            "Requirement already satisfied: setuptools in /usr/local/lib/python3.10/dist-packages (from torchtnt) (75.1.0)\n",
            "Requirement already satisfied: tqdm in /usr/local/lib/python3.10/dist-packages (from torchtnt) (4.67.1)\n",
            "Requirement already satisfied: tabulate in /usr/local/lib/python3.10/dist-packages (from torchtnt) (0.9.0)\n",
            "Collecting typing-inspect (from pyre-extensions->torchtnt)\n",
            "  Downloading typing_inspect-0.9.0-py3-none-any.whl.metadata (1.5 kB)\n",
            "Requirement already satisfied: absl-py>=0.4 in /usr/local/lib/python3.10/dist-packages (from tensorboard->torchtnt) (1.4.0)\n",
            "Requirement already satisfied: grpcio>=1.48.2 in /usr/local/lib/python3.10/dist-packages (from tensorboard->torchtnt) (1.68.1)\n",
            "Requirement already satisfied: markdown>=2.6.8 in /usr/local/lib/python3.10/dist-packages (from tensorboard->torchtnt) (3.7)\n",
            "Requirement already satisfied: protobuf!=4.24.0,>=3.19.6 in /usr/local/lib/python3.10/dist-packages (from tensorboard->torchtnt) (4.25.5)\n",
            "Requirement already satisfied: six>1.9 in /usr/local/lib/python3.10/dist-packages (from tensorboard->torchtnt) (1.17.0)\n",
            "Requirement already satisfied: tensorboard-data-server<0.8.0,>=0.7.0 in /usr/local/lib/python3.10/dist-packages (from tensorboard->torchtnt) (0.7.2)\n",
            "Requirement already satisfied: werkzeug>=1.0.1 in /usr/local/lib/python3.10/dist-packages (from tensorboard->torchtnt) (3.1.3)\n",
            "Requirement already satisfied: filelock in /usr/local/lib/python3.10/dist-packages (from torch->torchtnt) (3.16.1)\n",
            "Requirement already satisfied: networkx in /usr/local/lib/python3.10/dist-packages (from torch->torchtnt) (3.4.2)\n",
            "Requirement already satisfied: jinja2 in /usr/local/lib/python3.10/dist-packages (from torch->torchtnt) (3.1.4)\n",
            "Requirement already satisfied: sympy==1.13.1 in /usr/local/lib/python3.10/dist-packages (from torch->torchtnt) (1.13.1)\n",
            "Requirement already satisfied: mpmath<1.4,>=1.1.0 in /usr/local/lib/python3.10/dist-packages (from sympy==1.13.1->torch->torchtnt) (1.3.0)\n",
            "Requirement already satisfied: MarkupSafe>=2.1.1 in /usr/local/lib/python3.10/dist-packages (from werkzeug>=1.0.1->tensorboard->torchtnt) (3.0.2)\n",
            "Collecting mypy-extensions>=0.3.0 (from typing-inspect->pyre-extensions->torchtnt)\n",
            "  Downloading mypy_extensions-1.0.0-py3-none-any.whl.metadata (1.1 kB)\n",
            "Downloading torchtnt-0.2.4-py3-none-any.whl (163 kB)\n",
            "\u001b[2K   \u001b[90m━━━━━━━━━━━━━━━━━━━━━━━━━━━━━━━━━━━━━━━━\u001b[0m \u001b[32m163.5/163.5 kB\u001b[0m \u001b[31m16.0 MB/s\u001b[0m eta \u001b[36m0:00:00\u001b[0m\n",
            "\u001b[?25hDownloading pyre_extensions-0.0.32-py3-none-any.whl (12 kB)\n",
            "Downloading typing_inspect-0.9.0-py3-none-any.whl (8.8 kB)\n",
            "Downloading mypy_extensions-1.0.0-py3-none-any.whl (4.7 kB)\n",
            "Installing collected packages: mypy-extensions, typing-inspect, pyre-extensions, torchtnt\n",
            "Successfully installed mypy-extensions-1.0.0 pyre-extensions-0.0.32 torchtnt-0.2.4 typing-inspect-0.9.0\n"
          ]
        }
      ],
      "source": [
        "!pip install torchtnt"
      ]
    },
    {
      "cell_type": "code",
      "execution_count": null,
      "metadata": {
        "colab": {
          "base_uri": "https://localhost:8080/"
        },
        "id": "mDqIKGT82h9E",
        "outputId": "1c6367cd-21a8-4622-e321-21015ef2fea5"
      },
      "outputs": [
        {
          "output_type": "stream",
          "name": "stdout",
          "text": [
            "Collecting torcheval\n",
            "  Downloading torcheval-0.0.7-py3-none-any.whl.metadata (8.6 kB)\n",
            "Requirement already satisfied: typing-extensions in /usr/local/lib/python3.10/dist-packages (from torcheval) (4.12.2)\n",
            "Downloading torcheval-0.0.7-py3-none-any.whl (179 kB)\n",
            "\u001b[?25l   \u001b[90m━━━━━━━━━━━━━━━━━━━━━━━━━━━━━━━━━━━━━━━━\u001b[0m \u001b[32m0.0/179.2 kB\u001b[0m \u001b[31m?\u001b[0m eta \u001b[36m-:--:--\u001b[0m\r\u001b[2K   \u001b[90m━━━━━━━━━━━━━━━━━━━━━━━━━━━━━━━━━━━━━━━━\u001b[0m \u001b[32m179.2/179.2 kB\u001b[0m \u001b[31m16.4 MB/s\u001b[0m eta \u001b[36m0:00:00\u001b[0m\n",
            "\u001b[?25hInstalling collected packages: torcheval\n",
            "Successfully installed torcheval-0.0.7\n"
          ]
        }
      ],
      "source": [
        "!pip install torcheval"
      ]
    },
    {
      "cell_type": "code",
      "execution_count": null,
      "metadata": {
        "colab": {
          "base_uri": "https://localhost:8080/"
        },
        "id": "Uo5HswkZN6TZ",
        "outputId": "bba4eec7-20e7-4042-ff37-a51bf4b286f0"
      },
      "outputs": [
        {
          "output_type": "stream",
          "name": "stdout",
          "text": [
            "Collecting torchsnapshot\n",
            "  Downloading torchsnapshot-0.1.0-py3-none-any.whl.metadata (4.7 kB)\n",
            "Requirement already satisfied: PyYAML in /usr/local/lib/python3.10/dist-packages (from torchsnapshot) (6.0.2)\n",
            "Collecting aiofiles (from torchsnapshot)\n",
            "  Downloading aiofiles-24.1.0-py3-none-any.whl.metadata (10 kB)\n",
            "Requirement already satisfied: aiohttp in /usr/local/lib/python3.10/dist-packages (from torchsnapshot) (3.11.10)\n",
            "Requirement already satisfied: importlib-metadata in /usr/local/lib/python3.10/dist-packages (from torchsnapshot) (8.5.0)\n",
            "Requirement already satisfied: nest-asyncio in /usr/local/lib/python3.10/dist-packages (from torchsnapshot) (1.6.0)\n",
            "Requirement already satisfied: psutil in /usr/local/lib/python3.10/dist-packages (from torchsnapshot) (5.9.5)\n",
            "Requirement already satisfied: torch in /usr/local/lib/python3.10/dist-packages (from torchsnapshot) (2.5.1+cu121)\n",
            "Requirement already satisfied: typing-extensions in /usr/local/lib/python3.10/dist-packages (from torchsnapshot) (4.12.2)\n",
            "Requirement already satisfied: aiohappyeyeballs>=2.3.0 in /usr/local/lib/python3.10/dist-packages (from aiohttp->torchsnapshot) (2.4.4)\n",
            "Requirement already satisfied: aiosignal>=1.1.2 in /usr/local/lib/python3.10/dist-packages (from aiohttp->torchsnapshot) (1.3.2)\n",
            "Requirement already satisfied: async-timeout<6.0,>=4.0 in /usr/local/lib/python3.10/dist-packages (from aiohttp->torchsnapshot) (4.0.3)\n",
            "Requirement already satisfied: attrs>=17.3.0 in /usr/local/lib/python3.10/dist-packages (from aiohttp->torchsnapshot) (24.3.0)\n",
            "Requirement already satisfied: frozenlist>=1.1.1 in /usr/local/lib/python3.10/dist-packages (from aiohttp->torchsnapshot) (1.5.0)\n",
            "Requirement already satisfied: multidict<7.0,>=4.5 in /usr/local/lib/python3.10/dist-packages (from aiohttp->torchsnapshot) (6.1.0)\n",
            "Requirement already satisfied: propcache>=0.2.0 in /usr/local/lib/python3.10/dist-packages (from aiohttp->torchsnapshot) (0.2.1)\n",
            "Requirement already satisfied: yarl<2.0,>=1.17.0 in /usr/local/lib/python3.10/dist-packages (from aiohttp->torchsnapshot) (1.18.3)\n",
            "Requirement already satisfied: zipp>=3.20 in /usr/local/lib/python3.10/dist-packages (from importlib-metadata->torchsnapshot) (3.21.0)\n",
            "Requirement already satisfied: filelock in /usr/local/lib/python3.10/dist-packages (from torch->torchsnapshot) (3.16.1)\n",
            "Requirement already satisfied: networkx in /usr/local/lib/python3.10/dist-packages (from torch->torchsnapshot) (3.4.2)\n",
            "Requirement already satisfied: jinja2 in /usr/local/lib/python3.10/dist-packages (from torch->torchsnapshot) (3.1.4)\n",
            "Requirement already satisfied: fsspec in /usr/local/lib/python3.10/dist-packages (from torch->torchsnapshot) (2024.10.0)\n",
            "Requirement already satisfied: sympy==1.13.1 in /usr/local/lib/python3.10/dist-packages (from torch->torchsnapshot) (1.13.1)\n",
            "Requirement already satisfied: mpmath<1.4,>=1.1.0 in /usr/local/lib/python3.10/dist-packages (from sympy==1.13.1->torch->torchsnapshot) (1.3.0)\n",
            "Requirement already satisfied: idna>=2.0 in /usr/local/lib/python3.10/dist-packages (from yarl<2.0,>=1.17.0->aiohttp->torchsnapshot) (3.10)\n",
            "Requirement already satisfied: MarkupSafe>=2.0 in /usr/local/lib/python3.10/dist-packages (from jinja2->torch->torchsnapshot) (3.0.2)\n",
            "Downloading torchsnapshot-0.1.0-py3-none-any.whl (68 kB)\n",
            "\u001b[?25l   \u001b[90m━━━━━━━━━━━━━━━━━━━━━━━━━━━━━━━━━━━━━━━━\u001b[0m \u001b[32m0.0/68.5 kB\u001b[0m \u001b[31m?\u001b[0m eta \u001b[36m-:--:--\u001b[0m\r\u001b[2K   \u001b[90m━━━━━━━━━━━━━━━━━━━━━━━━━━━━━━━━━━━━━━━━\u001b[0m \u001b[32m68.5/68.5 kB\u001b[0m \u001b[31m7.5 MB/s\u001b[0m eta \u001b[36m0:00:00\u001b[0m\n",
            "\u001b[?25hDownloading aiofiles-24.1.0-py3-none-any.whl (15 kB)\n",
            "Installing collected packages: aiofiles, torchsnapshot\n",
            "Successfully installed aiofiles-24.1.0 torchsnapshot-0.1.0\n"
          ]
        }
      ],
      "source": [
        "!pip install torchsnapshot"
      ]
    },
    {
      "cell_type": "code",
      "execution_count": null,
      "metadata": {
        "id": "jPGMH6J8eN_P"
      },
      "outputs": [],
      "source": [
        "import os\n",
        "import copy\n",
        "import itertools\n",
        "import logging\n",
        "import glob\n",
        "\n",
        "from functools import partial\n",
        "from datetime import datetime\n",
        "from random import randint,shuffle\n",
        "\n",
        "import numpy as np\n",
        "from numpy import genfromtxt\n",
        "from scipy.interpolate import interp1d\n",
        "from scipy.signal import savgol_filter\n",
        "\n",
        "import matplotlib.pyplot as plt\n",
        "\n",
        "import torch\n",
        "import torch.nn as nn\n",
        "import torch.nn.functional as F"
      ]
    },
    {
      "cell_type": "code",
      "execution_count": null,
      "metadata": {
        "id": "-tjYDOhx2pue"
      },
      "outputs": [],
      "source": [
        "import argparse\n",
        "import logging\n",
        "import tempfile\n",
        "import uuid\n",
        "from argparse import Namespace\n",
        "from typing import Literal, Optional, Tuple, Union\n",
        "\n",
        "import torch\n",
        "import torch.nn as nn\n",
        "from torch.distributed import launcher as pet\n",
        "from torch.utils.data.dataset import Dataset, TensorDataset\n",
        "from torch.utils.tensorboard import SummaryWriter\n",
        "from torcheval.metrics import MulticlassAccuracy, MulticlassConfusionMatrix, MulticlassF1Score\n",
        "from torchtnt.framework.auto_unit import AutoUnit, Strategy, SWAParams, TrainStepResults\n",
        "from torchtnt.framework.fit import fit\n",
        "from torchtnt.framework.state import EntryPoint, State\n",
        "from torchtnt.utils import init_from_env, seed, TLRScheduler\n",
        "from torchtnt.utils.loggers import TensorBoardLogger\n",
        "from torchtnt.utils.prepare_module import ActivationCheckpointParams, TorchCompileParams\n",
        "from torchtnt.framework.callbacks.garbage_collector import GarbageCollector\n",
        "from torchtnt.framework.callbacks.torchsnapshot_saver import TorchSnapshotSaver\n",
        "from torchtnt.framework.callbacks.tqdm_progress_bar import TQDMProgressBar"
      ]
    },
    {
      "cell_type": "code",
      "execution_count": null,
      "metadata": {
        "id": "RxWJ0xJI3GJU"
      },
      "outputs": [],
      "source": [
        "_logger: logging.Logger = logging.getLogger(__name__)\n",
        "logging.basicConfig(level=logging.INFO)"
      ]
    },
    {
      "cell_type": "markdown",
      "metadata": {
        "id": "WFUxjK-6g5CD"
      },
      "source": [
        "## Data Handling\n",
        "\n",
        "Please switch the pipeline required for training detectors and classifiers by selecting one of the two functions read_annotation_binary or read_annotation_multi."
      ]
    },
    {
      "cell_type": "code",
      "execution_count": null,
      "metadata": {
        "id": "xsFopEzfRTGt"
      },
      "outputs": [],
      "source": [
        "MAIN_FOLDER = \"/content/drive/MyDrive/AutoGR/SHREC2021/\"\n",
        "MAIN_FOLDER = \"/content/drive/MyDrive/Colab Notebooks/shrec2021/\"\n",
        "# 17 semantic gestures\n",
        "GESTURE_NAME = [\n",
        "    'ONE', 'TWO', 'THREE', 'FOUR',\n",
        "    'OK', 'MENU', 'LEFT', 'RIGHT',\n",
        "    'CIRCLE', 'V', 'CROSS', 'GRAB',\n",
        "    'PINCH', 'TAP', 'DENY', 'KNOB', 'EXPAND'\n",
        "]\n",
        "\n",
        "# 20 split joints\n",
        "SPLIT_JOINT_NAME = [\n",
        "    'palm',\n",
        "    'thumbA', 'thumbB', 'thumbEnd',\n",
        "    'indexA', 'indexB', 'indexC', 'indexEnd',\n",
        "    'middleA', 'middleB', 'middleC', 'middleEnd',\n",
        "    'ringA', 'ringB', 'ringC', 'ringEnd',\n",
        "    'pinkyA', 'pinkyB', 'pinkyC', 'pinkyEnd'\n",
        "]\n",
        "\n",
        "SELECTED_GESTURE_NAME = GESTURE_NAME\n",
        "SELECTED_JOINT_NAME = SPLIT_JOINT_NAME\n",
        "\n",
        "INPUT_DIM = len(SELECTED_JOINT_NAME)*7\n",
        "OUTPUT_DIM = len(SELECTED_GESTURE_NAME)\n",
        "MAX_LENGTH = 250\n",
        "BATCH_SIZE = 256"
      ]
    },
    {
      "cell_type": "code",
      "execution_count": null,
      "metadata": {
        "id": "8SpLLVhgBups"
      },
      "outputs": [],
      "source": [
        "def read_shrec_2021(path):\n",
        "    gesture_data = []\n",
        "    sequence_idx_list = []\n",
        "\n",
        "    for i, fname in enumerate(sorted(glob.glob(path))):\n",
        "        # print(fname)\n",
        "\n",
        "        idx = fname.split('/')[-1].split('.')[0]\n",
        "        # print(idx)\n",
        "\n",
        "        data = genfromtxt(fname, delimiter=';')\n",
        "        data_ = np.delete(data, -1, axis=1)\n",
        "        gesture_data.append(data_)\n",
        "        sequence_idx_list.append(int(idx))\n",
        "\n",
        "    gesture_data_sorted = [x for _, x in sorted(zip(sequence_idx_list, gesture_data))]\n",
        "\n",
        "    return gesture_data_sorted"
      ]
    },
    {
      "cell_type": "code",
      "execution_count": null,
      "metadata": {
        "id": "zKVAcqpPO30Z"
      },
      "outputs": [],
      "source": [
        "path = os.path.join(MAIN_FOLDER, 'training_set/sequences/*.txt')\n",
        "gesture_data_train = read_shrec_2021(path)\n",
        "path = os.path.join(MAIN_FOLDER, 'test_set/sequences/*.txt')\n",
        "gesture_data_test = read_shrec_2021(path)"
      ]
    },
    {
      "cell_type": "code",
      "execution_count": null,
      "metadata": {
        "colab": {
          "base_uri": "https://localhost:8080/"
        },
        "id": "l1xCGirgTVqv",
        "outputId": "a8e6da6b-e015-466a-ea55-318e5bae5e13"
      },
      "outputs": [
        {
          "output_type": "execute_result",
          "data": {
            "text/plain": [
              "(1913, 140)"
            ]
          },
          "metadata": {},
          "execution_count": 11
        }
      ],
      "source": [
        "# ts, dim\n",
        "gesture_data_test[0].shape"
      ]
    },
    {
      "cell_type": "code",
      "execution_count": null,
      "metadata": {
        "id": "wIulahZNC-6J"
      },
      "outputs": [],
      "source": [
        "def read_annotation_binary(fname_, gesture_data, max_length=MAX_LENGTH):\n",
        "    with open(fname_) as f:\n",
        "        lines = f.readlines()\n",
        "\n",
        "    annotation_idx_list = []\n",
        "    gesture_name_list = []\n",
        "    start_idx_list = []\n",
        "    end_idx_list = []\n",
        "    for i in range(len(lines)):\n",
        "        annotation_idx_list.append(int(lines[i].split(';')[0]))\n",
        "        gesture_name = lines[i].split(';')[1:-1][::3]\n",
        "        start_idx = lines[i].split(';')[2:-1][::3]\n",
        "        end_idx = lines[i].split(';')[0:-1][::3][1:]\n",
        "        gesture_name_list.append(gesture_name)\n",
        "        start_idx_list.append(start_idx)\n",
        "        end_idx_list.append(end_idx)\n",
        "\n",
        "    # Sort by comment index\n",
        "    sorted_data = sorted(zip(annotation_idx_list, gesture_name_list, start_idx_list, end_idx_list))\n",
        "    gesture_name_list = [x[1] for x in sorted_data]\n",
        "    start_idx_list = [x[2] for x in sorted_data]\n",
        "    end_idx_list = [x[3] for x in sorted_data]\n",
        "\n",
        "    single_gesture = []\n",
        "    gesture_class = []\n",
        "    for i in range(len(gesture_data)):\n",
        "        sequence_length = len(gesture_data[i])\n",
        "        # Get the start and end indexes of all gestures in the current sequence\n",
        "        gesture_starts = [int(idx) for idx in start_idx_list[i]]\n",
        "        gesture_ends = [int(idx) for idx in end_idx_list[i]]\n",
        "\n",
        "        # Initializing pointers\n",
        "        prev_end = 0\n",
        "\n",
        "        for j in range(len(gesture_starts)):\n",
        "            start_idx = gesture_starts[j]\n",
        "            end_idx = gesture_ends[j]\n",
        "\n",
        "            # Extract the gesture-free fragment (from the end of the previous gesture to the start of the current gesture)\n",
        "            if prev_end < start_idx:\n",
        "                non_gesture_segment = gesture_data[i][prev_end:start_idx]\n",
        "                if len(non_gesture_segment) > 0:\n",
        "                    single_gesture.append(non_gesture_segment[:max_length])\n",
        "                    gesture_class.append(0)  # Invalid gesture\n",
        "\n",
        "            # Extract valid gesture fragments\n",
        "            gesture_segment = gesture_data[i][start_idx:end_idx]\n",
        "            single_gesture.append(gesture_segment[:max_length])\n",
        "            gesture_class.append(1)  # Valid gesture\n",
        "\n",
        "            # Update pointer\n",
        "            prev_end = end_idx\n",
        "\n",
        "        # Extract the gesture-free segment at the end of the sequence\n",
        "        if prev_end < sequence_length:\n",
        "            non_gesture_segment = gesture_data[i][prev_end:sequence_length]\n",
        "            if len(non_gesture_segment) > 0:\n",
        "                single_gesture.append(non_gesture_segment[:max_length])\n",
        "                gesture_class.append(0)  # Invalid gesture\n",
        "\n",
        "    return single_gesture, gesture_class\n",
        "\n",
        "\n",
        "def read_annotation_multi(fname_, gesture_data, max_length=MAX_LENGTH):\n",
        "    with open(fname_) as f:\n",
        "        lines = f.readlines()\n",
        "\n",
        "    annotation_idx_list = []\n",
        "    gesture_name_list = []\n",
        "    start_idx_list = []\n",
        "    end_idx_list = []\n",
        "    for i in range(len(lines)):\n",
        "        annotation_idx_list.append(int(lines[i].split(';')[0]))\n",
        "        gesture_name_list.append(lines[i].split(';')[1:-1][::3])\n",
        "        start_idx_list.append(lines[i].split(';')[2:-1][::3])\n",
        "        end_idx_list.append(lines[i].split(';')[0:-1][::3][1:])\n",
        "\n",
        "    gesture_name_list = [x for _, x in sorted(zip(annotation_idx_list, gesture_name_list))]\n",
        "    start_idx_list = [x for _, x in sorted(zip(annotation_idx_list, start_idx_list))]\n",
        "    end_idx_list = [x for _, x in sorted(zip(annotation_idx_list, end_idx_list))]\n",
        "\n",
        "\n",
        "    single_gesture = []\n",
        "    gesture_class = []\n",
        "    for i in range(len(gesture_data)):\n",
        "        for j in range(len(gesture_name_list[i])):\n",
        "            start_idx = int(start_idx_list[i][j])\n",
        "            end_idx = int(end_idx_list[i][j])\n",
        "            single_gesture.append(gesture_data[i][start_idx:start_idx+max_length])\n",
        "            gesture_class.append(GESTURE_NAME.index(gesture_name_list[i][j]))\n",
        "\n",
        "    return single_gesture, gesture_class"
      ]
    },
    {
      "cell_type": "code",
      "execution_count": null,
      "metadata": {
        "id": "V0Cd441cQ9-5"
      },
      "outputs": [],
      "source": [
        "anno_train = os.path.join(MAIN_FOLDER, 'training_set/annotations_revised_training.txt')\n",
        "single_gesture_train, gesture_class_train = read_annotation_multi(anno_train, gesture_data_train)\n",
        "anno_test = os.path.join(MAIN_FOLDER, 'test_set/annotations_revised.txt')\n",
        "single_gesture_test, gesture_class_test = read_annotation_multi(anno_test, gesture_data_test)"
      ]
    },
    {
      "cell_type": "code",
      "execution_count": null,
      "metadata": {
        "colab": {
          "base_uri": "https://localhost:8080/"
        },
        "id": "weGUvqb6UqrY",
        "outputId": "5f19bee2-246b-4a06-bbb2-c45374d7bb8b"
      },
      "outputs": [
        {
          "output_type": "execute_result",
          "data": {
            "text/plain": [
              "(250, 140)"
            ]
          },
          "metadata": {},
          "execution_count": 14
        }
      ],
      "source": [
        "# single gesture ts, dim\n",
        "single_gesture_test[0].shape"
      ]
    },
    {
      "cell_type": "code",
      "execution_count": null,
      "metadata": {
        "colab": {
          "base_uri": "https://localhost:8080/"
        },
        "id": "A9biBzf9UxG2",
        "outputId": "82104026-2c80-4ae2-fea7-981daa775d18"
      },
      "outputs": [
        {
          "output_type": "execute_result",
          "data": {
            "text/plain": [
              "0"
            ]
          },
          "metadata": {},
          "execution_count": 15
        }
      ],
      "source": [
        "# class index\n",
        "gesture_class_test[0]"
      ]
    },
    {
      "cell_type": "code",
      "execution_count": null,
      "metadata": {
        "id": "PkvcAYnQaZjz"
      },
      "outputs": [],
      "source": [
        "def select_joint(gesture_data, selected_joint=SELECTED_JOINT_NAME, pos = True, quat= True):\n",
        "    \"\"\"\n",
        "    Column projection on selected joints\n",
        "    \"\"\"\n",
        "    selected_joint_idx = []\n",
        "    for x in selected_joint:\n",
        "        selected_joint_idx.append(SPLIT_JOINT_NAME.index(x))\n",
        "\n",
        "    # Every joint is represented as 7-dim with 3 dim for pos and 4 dim for quat\n",
        "    # TODO: can be optimized with numpy\n",
        "    idx_list_pos_x = np.multiply(selected_joint_idx,7)\n",
        "    idx_list_pos_y = np.multiply(selected_joint_idx,7)+1\n",
        "    idx_list_pos_z = np.multiply(selected_joint_idx,7)+2\n",
        "    idx_list_quat_x = np.multiply(selected_joint_idx,7)+3\n",
        "    idx_list_quat_y = np.multiply(selected_joint_idx,7)+4\n",
        "    idx_list_quat_z = np.multiply(selected_joint_idx,7)+5\n",
        "    idx_list_quat_w = np.multiply(selected_joint_idx,7)+6\n",
        "\n",
        "    idx_list_pos = np.concatenate([idx_list_pos_x,idx_list_pos_y,idx_list_pos_z])\n",
        "    idx_list_quat = np.concatenate([idx_list_quat_x,idx_list_quat_y,idx_list_quat_z,idx_list_quat_w])\n",
        "\n",
        "\n",
        "    if pos:\n",
        "        data = gesture_data[:,sorted(idx_list_pos)]\n",
        "    if quat:\n",
        "        data = gesture_data[:,sorted(idx_list_quat)]\n",
        "    if pos and quat:\n",
        "        data = gesture_data[:,sorted(np.concatenate([idx_list_pos,idx_list_quat]))]\n",
        "\n",
        "    return data"
      ]
    },
    {
      "cell_type": "code",
      "execution_count": null,
      "metadata": {
        "id": "TjT7P73ncTRU"
      },
      "outputs": [],
      "source": [
        "# Select specific joints from the training and testing data; column projection\n",
        "selected_gesture_train = [select_joint(x) for x in single_gesture_train]\n",
        "selected_gesture_test = [select_joint(x) for x in single_gesture_test]"
      ]
    },
    {
      "cell_type": "code",
      "execution_count": null,
      "metadata": {
        "colab": {
          "base_uri": "https://localhost:8080/"
        },
        "id": "ITzHE1waiJDm",
        "outputId": "1f831680-0645-4cd3-d278-803f4b0ac879"
      },
      "outputs": [
        {
          "output_type": "execute_result",
          "data": {
            "text/plain": [
              "(250, 140)"
            ]
          },
          "metadata": {},
          "execution_count": 18
        }
      ],
      "source": [
        "selected_gesture_test[0].shape"
      ]
    },
    {
      "cell_type": "code",
      "execution_count": null,
      "metadata": {
        "id": "euKOOGvGdZMz"
      },
      "outputs": [],
      "source": [
        "def pad_data(data, input_dim=INPUT_DIM, max_length=MAX_LENGTH):\n",
        "    data_padded = np.zeros([len(data), max_length, input_dim])\n",
        "    for i in range(len(data)):\n",
        "        if len(data[i]) <= max_length:\n",
        "            data_padded[i,:len(data[i])] = data[i]\n",
        "        if len(data[i]) > max_length:\n",
        "            data_padded[i] = data[i][:max_length]\n",
        "\n",
        "    return data_padded"
      ]
    },
    {
      "cell_type": "code",
      "execution_count": null,
      "metadata": {
        "id": "uDhydgetfo3s"
      },
      "outputs": [],
      "source": [
        "# get data:\n",
        "# ensure each single gesture has the same dimension by\n",
        "# cutting or padding with 0s.\n",
        "train_data = pad_data(selected_gesture_train)\n",
        "assert not np.any(np.isnan(train_data))\n",
        "test_data = pad_data(selected_gesture_test)\n",
        "assert not np.any(np.isnan(test_data))"
      ]
    },
    {
      "cell_type": "code",
      "execution_count": null,
      "metadata": {
        "id": "mk2A3j4Pf7FI"
      },
      "outputs": [],
      "source": [
        "# get labels:\n",
        "train_label, test_label = np.array(gesture_class_train), np.array(gesture_class_test)"
      ]
    },
    {
      "cell_type": "code",
      "execution_count": null,
      "metadata": {
        "colab": {
          "base_uri": "https://localhost:8080/"
        },
        "id": "KGn6R1b3ikzI",
        "outputId": "19b0514c-2792-4e0e-d1bb-777e8c81936a"
      },
      "outputs": [
        {
          "output_type": "execute_result",
          "data": {
            "text/plain": [
              "(912, 250, 140)"
            ]
          },
          "metadata": {},
          "execution_count": 22
        }
      ],
      "source": [
        "train_data.shape"
      ]
    },
    {
      "cell_type": "code",
      "execution_count": null,
      "metadata": {
        "colab": {
          "base_uri": "https://localhost:8080/"
        },
        "id": "HgRz9VfViuYI",
        "outputId": "0f047508-0052-460a-96dd-fbad82d77acd"
      },
      "outputs": [
        {
          "output_type": "execute_result",
          "data": {
            "text/plain": [
              "(912,)"
            ]
          },
          "metadata": {},
          "execution_count": 23
        }
      ],
      "source": [
        "train_label.shape"
      ]
    },
    {
      "cell_type": "code",
      "execution_count": null,
      "metadata": {
        "id": "Bi3B2Pc9jd8X"
      },
      "outputs": [],
      "source": [
        "# random shuffle\n",
        "def shuffle(data, label):\n",
        "    data = np.asarray(data, dtype = object)\n",
        "    shuffled_indexes = np.random.permutation(np.shape(data)[0])\n",
        "    data = data[shuffled_indexes]\n",
        "    label = label[shuffled_indexes]\n",
        "\n",
        "    return data, label\n",
        "\n",
        "train_data, train_label = shuffle(train_data, train_label)"
      ]
    },
    {
      "cell_type": "code",
      "execution_count": null,
      "metadata": {
        "id": "JPUy5ro0jxg_"
      },
      "outputs": [],
      "source": [
        "# set data type\n",
        "train_data = np.asarray(train_data, dtype=np.float32)\n",
        "test_data = np.asarray(test_data, dtype=np.float32)\n",
        "\n",
        "train_label = np.asarray(train_label, dtype=np.int32)\n",
        "test_label = np.asarray(test_label, dtype=np.int32)"
      ]
    },
    {
      "cell_type": "code",
      "execution_count": null,
      "metadata": {
        "colab": {
          "base_uri": "https://localhost:8080/"
        },
        "id": "Q-5PHyyryWzf",
        "outputId": "36d60352-f11c-4a52-b1a1-408073bfca5e"
      },
      "outputs": [
        {
          "output_type": "stream",
          "name": "stdout",
          "text": [
            "(912, 250, 140)\n",
            "(912,)\n"
          ]
        }
      ],
      "source": [
        "print(train_data.shape)\n",
        "print(train_label.shape)"
      ]
    },
    {
      "cell_type": "code",
      "execution_count": null,
      "metadata": {
        "id": "PMdvPuowzoVH"
      },
      "outputs": [],
      "source": [
        "from scipy.spatial.transform import Rotation as R\n",
        "\n",
        "from scipy.spatial.transform import Rotation as R\n",
        "\n",
        "# Translation\n",
        "def translate_joints(joints, translation_range):\n",
        "    translation = np.random.uniform(-translation_range, translation_range, size=(1, 3))\n",
        "    translated_joints = joints[:, :, :3] + translation\n",
        "    return np.concatenate((translated_joints, joints[:, :, 3:]), axis=2)\n",
        "\n",
        "# Rotation\n",
        "def rotate_joints(joints, rotation_range):\n",
        "    angle = np.random.uniform(-rotation_range, rotation_range)\n",
        "    axis = np.random.normal(size=3)\n",
        "    axis /= np.linalg.norm(axis)\n",
        "    r = R.from_rotvec(angle * axis)\n",
        "    # Normalize quaternions before applying rotations\n",
        "    quats = joints[:, :, 3:]\n",
        "    norms = np.linalg.norm(quats, axis=2, keepdims=True)\n",
        "    norms[norms == 0] = 1e-6\n",
        "    normalized_quats = quats / norms\n",
        "    try:\n",
        "        rotated_joints = np.array([r.apply(frame[:, :3]) for frame in joints])\n",
        "        rotated_quats = np.array([(r * R.from_quat(frame)).as_quat() for frame in normalized_quats])\n",
        "        return np.concatenate((rotated_joints, rotated_quats), axis=2)\n",
        "    except Exception as e:\n",
        "        return joints\n",
        "\n",
        "# Scaling\n",
        "def scale_joints(joints, scale_range):\n",
        "    scale = np.random.uniform(1 - scale_range, 1 + scale_range, size=(1, 1, 3))\n",
        "    scaled_joints = joints[:, :, :3] * scale\n",
        "    return np.concatenate((scaled_joints, joints[:, :, 3:]), axis=2)\n",
        "\n",
        "# Noise Injection\n",
        "def add_noise(joints, noise_std):\n",
        "    noisy_joints = joints[:, :, :3] + np.random.normal(0, noise_std, size=joints[:, :, :3].shape)\n",
        "    noisy_quats = joints[:, :, 3:] + np.random.normal(0, noise_std, size=joints[:, :, 3:].shape)\n",
        "    return np.concatenate((noisy_joints, noisy_quats), axis=2)\n",
        "\n",
        "# Quaternion Normalization\n",
        "def normalize_quaternions(joints):\n",
        "    quats = joints[:, :, 3:]\n",
        "    norms = np.linalg.norm(quats, axis=2, keepdims=True)\n",
        "    normalized_quats = quats / norms\n",
        "    return np.concatenate((joints[:, :, :3], normalized_quats), axis=2)\n",
        "\n",
        "# Warp sequence by time\n",
        "def time_warp(sequence, speed_factor):\n",
        "    \"\"\"\n",
        "    Apply time warping to the sequence to mimic different speeds.\n",
        "\n",
        "    Args:\n",
        "        sequence (np.ndarray): The input sequence of shape [frames, 140].\n",
        "        speed_factor (float): The factor by which to speed up (speed_factor > 1) or slow down (speed_factor < 1) the sequence.\n",
        "\n",
        "    Returns:\n",
        "        np.ndarray: The time-warped sequence of shape [new_frames, 140].\n",
        "    \"\"\"\n",
        "    num_frames, num_features = sequence.shape\n",
        "    new_num_frames = int(num_frames / speed_factor)\n",
        "    # Interpolation indices\n",
        "    original_indices = np.arange(num_frames)\n",
        "    new_indices = np.linspace(0, num_frames - 1, new_num_frames)\n",
        "    # Interpolate each feature\n",
        "    warped_sequence = np.zeros((new_num_frames, num_features))\n",
        "    for i in range(num_features):\n",
        "        interp_function = interp1d(original_indices, sequence[:, i], kind='linear')\n",
        "        warped_sequence[:, i] = interp_function(new_indices)\n",
        "    data_padded = np.zeros((MAX_LENGTH, INPUT_DIM))\n",
        "    data_padded[:warped_sequence.shape[0]] = warped_sequence\n",
        "    return data_padded.astype(np.float32)\n",
        "\n",
        "# Combining Augmentations\n",
        "def augment_joints(sequence, translation_range, rotation_range, scale_range, noise_std):\n",
        "    sequence = sequence.reshape(-1, 20, 7)  # Reshape to [250, 20, 7]\n",
        "    sequence = translate_joints(sequence, translation_range)\n",
        "    # sequence = rotate_joints(sequence, rotation_range)\n",
        "    sequence = scale_joints(sequence, scale_range)\n",
        "    sequence = add_noise(sequence, noise_std)\n",
        "    sequence = normalize_quaternions(sequence)\n",
        "    return sequence.reshape(-1, 140).astype(np.float32)  # Reshape back to [250, 140]"
      ]
    },
    {
      "cell_type": "code",
      "execution_count": null,
      "metadata": {
        "id": "6g_oRcPXXCLq"
      },
      "outputs": [],
      "source": [
        "from torch.utils.data import Dataset, DataLoader\n",
        "\n",
        "class MyDataset(Dataset):\n",
        "    def __init__(self, data, labels, augment=False, time_warp=True):\n",
        "        self.data = torch.tensor(data, dtype=torch.float32)\n",
        "        self.labels = torch.tensor(labels, dtype=torch.int64)\n",
        "        self.augment = augment\n",
        "\n",
        "    def __len__(self):\n",
        "        return len(self.data)\n",
        "\n",
        "    def augment_sequence(self, joints):\n",
        "        return augment_joints(joints, translation_range=0.25, rotation_range=np.pi/4, scale_range=0.25, noise_std=0.05)\n",
        "\n",
        "    def __getitem__(self, idx):\n",
        "        d = self.data[idx]\n",
        "        if self.augment:\n",
        "          d = self.augment_sequence(d)\n",
        "        if time_warp:\n",
        "          speed_factor = np.random.uniform(1, 1.5)\n",
        "          d = time_warp(d, speed_factor=speed_factor)\n",
        "        return d, self.labels[idx]"
      ]
    },
    {
      "cell_type": "code",
      "execution_count": null,
      "metadata": {
        "id": "Db2mmcrzXDUG"
      },
      "outputs": [],
      "source": [
        "train_set = MyDataset(train_data, train_label, augment=False, time_warp=True)\n",
        "test_set = MyDataset(test_data, test_label)\n",
        "train_loader = DataLoader(train_set, batch_size=BATCH_SIZE, shuffle=True)\n",
        "test_loader = DataLoader(test_set, batch_size=BATCH_SIZE, shuffle=True)"
      ]
    },
    {
      "cell_type": "code",
      "execution_count": null,
      "metadata": {
        "id": "E32NLbclXLdc"
      },
      "outputs": [],
      "source": [
        "batch = next(iter(train_loader))\n",
        "data, label = batch"
      ]
    },
    {
      "cell_type": "code",
      "execution_count": null,
      "metadata": {
        "colab": {
          "base_uri": "https://localhost:8080/"
        },
        "id": "0PgVwQS7XaQf",
        "outputId": "173477dc-d42d-4061-df9a-5916d8a39d43"
      },
      "outputs": [
        {
          "output_type": "stream",
          "name": "stdout",
          "text": [
            "torch.Size([256, 250, 140])\n",
            "torch.Size([256])\n"
          ]
        }
      ],
      "source": [
        "print(data.shape)\n",
        "print(label.shape)"
      ]
    },
    {
      "cell_type": "markdown",
      "metadata": {
        "id": "GHR6fAKQgydv"
      },
      "source": [
        "## Model Implementations"
      ]
    },
    {
      "cell_type": "code",
      "execution_count": null,
      "metadata": {
        "id": "eK5xR4vJQrxy"
      },
      "outputs": [],
      "source": [
        "import torch\n",
        "import torch.nn as nn\n",
        "import torch.nn.functional as F\n",
        "\n",
        "class StreamingSightMu(nn.Module):\n",
        "    def __init__(self, input_shape2, output_shape, cnn_features=10, rnn='LSTM', multi_rnn=True, attention=False, dropout=0.2, num_layers=2):\n",
        "        super(StreamingSightMu, self).__init__()\n",
        "        self.multi_rnn = multi_rnn\n",
        "        self.attention = attention\n",
        "        self.num_layers = num_layers\n",
        "\n",
        "        rnn_output_size = 512  # Define the dimensions of the hidden state\n",
        "\n",
        "        # Modified fully connected layer, the input dimension increases the dimension of the hidden state\n",
        "        self.rnnsfc1 = nn.Linear(input_shape2 + rnn_output_size, rnn_output_size)\n",
        "        self.dropout1 = nn.Dropout(p=dropout)\n",
        "        self.rnnsfc2 = nn.Linear(rnn_output_size + rnn_output_size, rnn_output_size)\n",
        "        self.dropout2 = nn.Dropout(p=dropout)\n",
        "        self.rnnsfc3 = nn.Linear(rnn_output_size + rnn_output_size, rnn_output_size)\n",
        "        self.dropout3 = nn.Dropout(p=dropout)\n",
        "\n",
        "        # Fully connected layer\n",
        "        self.flatten = nn.Flatten()\n",
        "        flatten_size = 1 * 256 if attention else 1 * rnn_output_size  # Adjust based on whether to use the attention mechanism\n",
        "        #self.fc1 = nn.Linear(flatten_size, 256)\n",
        "        self.fc2 = nn.Linear(flatten_size, output_shape)\n",
        "\n",
        "    # The forward function now accepts an external hidden state h\n",
        "    def forward(self, x, h):\n",
        "        # x: input tensor, shape is [batch_size, seq_length, input_size]\n",
        "        # h: external hidden state, shape is [3, batch_size, hidden_size]\n",
        "\n",
        "        batch_size, seq_length, input_size = x.size()\n",
        "        x = x.squeeze(1)  # Assume seq_length=1\n",
        "\n",
        "        # The first fully connected layer, the input is the concatenation of the current input and the hidden state\n",
        "        xh1 = torch.cat([x, h[0]], dim=-1)\n",
        "        nh0 = F.relu(self.rnnsfc1(xh1))\n",
        "        nh0 = self.dropout1(nh0)\n",
        "        # The second fully connected layer\n",
        "        xh2 = torch.cat([nh0, h[1]], dim=-1)\n",
        "        nh1 = F.relu(self.rnnsfc2(xh2))\n",
        "        nh1 = self.dropout2(nh1)\n",
        "\n",
        "        # The third fully connected layer\n",
        "        xh3 = torch.cat([nh1, h[2]], dim=-1)\n",
        "        nh2 = F.relu(self.rnnsfc3(xh3))\n",
        "        nh2 = self.dropout3(nh2)\n",
        "\n",
        "        # Flattened and passed through a fully connected layer\n",
        "        x = self.flatten(nh2)  # Use the updated hidden state h\n",
        "        x = F.relu(x)\n",
        "        x = self.fc2(x)\n",
        "\n",
        "        hnew = [nh0.detach(), nh1.detach(), nh2.detach()]\n",
        "        # Returns the output and updated hidden state\n",
        "        return F.log_softmax(x, dim=-1), hnew\n",
        "\n",
        "class StreamingSightBi(nn.Module):\n",
        "    def __init__(self, input_shape2, output_shape, cnn_features=10, rnn='LSTM', multi_rnn=True, attention=False, dropout=0.2, num_layers = 2):\n",
        "        super(StreamingSightBi, self).__init__()\n",
        "        self.multi_rnn = multi_rnn\n",
        "        self.attention = attention\n",
        "        self.num_layers = num_layers\n",
        "\n",
        "        # Define the RNN type\n",
        "        #rnn_layer = nn.LSTM if rnn == 'LSTM' else nn.GRU\n",
        "        rnn_output_size = 256  # Hardcoded RNN output size\n",
        "\n",
        "\n",
        "        # Define the RNN layers\n",
        "        if multi_rnn:\n",
        "            self.num_layers = 1\n",
        "        else:\n",
        "            self.num_layers = 1\n",
        "        self.rnns = nn.LSTM(input_size=input_shape2, hidden_size=rnn_output_size, num_layers=self.num_layers, batch_first=True, dropout=dropout)\n",
        "\n",
        "        # Define attention if required\n",
        "        if attention:\n",
        "            self.attention_layer = nn.MultiheadAttention(embed_dim=256, num_heads=4, batch_first=True)\n",
        "\n",
        "        # Fully connected layers\n",
        "        self.flatten = nn.Flatten()\n",
        "        # hardcoding ALERT: input_shape1=1\n",
        "\n",
        "        flatten_size = 1 * 256 if attention else 1 * rnn_output_size  # Adjust based on the sequence length and attention\n",
        "        self.fc2 = nn.Linear(flatten_size, output_shape)\n",
        "\n",
        "    # Additionally receives external hidden state\n",
        "    def forward(self, x, hPt, cPt):\n",
        "\n",
        "        batch_size, _, _ = x.size()\n",
        "        # Pass through the RNNs\n",
        "        x, (hPt, cPt) = self.rnns(x, (hPt, cPt))\n",
        "\n",
        "        # Apply attention if specified\n",
        "        if self.attention:\n",
        "            query, key = x.split(256, dim=2)  # Assuming the LSTM output is 400-dimensional, split into 2x200\n",
        "            attention_output, _ = self.attention_layer(query, key, key)\n",
        "            x = attention_output\n",
        "\n",
        "        # Flatten and pass through dense layers\n",
        "        x = self.flatten(x)\n",
        "        x = F.relu(x)\n",
        "        x = self.fc2(x)\n",
        "        return F.log_softmax(x, dim=-1), (hPt, cPt)"
      ]
    },
    {
      "cell_type": "markdown",
      "metadata": {
        "id": "tnCV6PqZiQnp"
      },
      "source": [
        "## Training\n",
        "\n",
        "Note the hardcoded number of classification categories in this section, as well as the external hidden state parameters.\n",
        "\n",
        "The main modification of the streaming model to the training pipeline is in the *compute_loss()* function.\n",
        "\n",
        "The best hyperparameter settings found so far: 3-layer RNN (512), learning rate 0.001, batch size 256."
      ]
    },
    {
      "cell_type": "code",
      "execution_count": null,
      "metadata": {
        "id": "9fZPMsavx_Wc"
      },
      "outputs": [],
      "source": [
        "# Creating an instance of the model\n",
        "input_shape = data.shape\n",
        "output_shape = 17  # Example output shape (number of classes)"
      ]
    },
    {
      "cell_type": "code",
      "execution_count": null,
      "metadata": {
        "id": "7bwtWatXazd4"
      },
      "outputs": [],
      "source": [
        "def prepare_module(model_type, input_shape, output_shape, device: torch.device) -> nn.Module:\n",
        "    \"\"\"\n",
        "    Instantiate a nn.Module which will define the architecture of your model. If using a data parallel technique, wrap the module in DDP or FSDP.\n",
        "    See https://pytorch.org/docs/stable/generated/torch.nn.Module.html for docs.\n",
        "    \"\"\"\n",
        "    if model_type == \"streamingBi\":\n",
        "        model = StreamingSightBi(140, 2)\n",
        "    elif model_type == \"streamingMu\":\n",
        "        model = StreamingSightMu(140, 17)\n",
        "    return model.to(device)\n",
        "\n",
        "\n",
        "def prepare_dataloader(data_loader, device: torch.device) -> torch.utils.data.DataLoader:\n",
        "    \"\"\"Instantiate DataLoader\"\"\"\n",
        "    # pin_memory enables faster host to GPU copies\n",
        "    # on_cuda = device.type == \"cuda\"\n",
        "    return data_loader\n",
        "\n",
        "import pandas as pd\n",
        "import seaborn as sns\n",
        "import matplotlib.pyplot as plt\n",
        "\n",
        "def plot_cm(\n",
        "    cm_metric, idx=GESTURE_NAME, fig_size=(10,7), cmap=\"Spectral\",\n",
        "):\n",
        "    df_cm = pd.DataFrame(\n",
        "        torch.Tensor.cpu(cm_metric).numpy(),\n",
        "        index=list(range(len(idx))),\n",
        "        columns=idx,\n",
        "    )\n",
        "    plt.figure(figsize=fig_size)\n",
        "    fig = sns.heatmap(df_cm, annot=True, cmap=cmap).get_figure()\n",
        "\n",
        "    return fig"
      ]
    },
    {
      "cell_type": "code",
      "execution_count": null,
      "metadata": {
        "id": "lFrtR9H-Xg2P"
      },
      "outputs": [],
      "source": [
        "Batch = Tuple[torch.Tensor, torch.Tensor]\n",
        "\n",
        "\n",
        "class SHRECUnit(AutoUnit[Batch]):\n",
        "    def __init__(\n",
        "        self,\n",
        "        *,\n",
        "        train_accuracy: MulticlassAccuracy,\n",
        "        eval_accuracy: MulticlassAccuracy,\n",
        "        train_cm: MulticlassConfusionMatrix,\n",
        "        eval_cm: MulticlassConfusionMatrix,\n",
        "        log_every_n_steps: int,\n",
        "        tb_logger: Optional[TensorBoardLogger] = None,\n",
        "        module: torch.nn.Module,\n",
        "        criterion: torch.nn.Module,\n",
        "        device: Optional[torch.device] = None,\n",
        "        strategy: Optional[Union[Strategy, str]] = None,\n",
        "        step_lr_interval: Literal[\"step\", \"epoch\"] = \"epoch\",\n",
        "        precision: Optional[Union[str, torch.dtype]] = None,\n",
        "        gradient_accumulation_steps: int = 1,\n",
        "        detect_anomaly: Optional[bool] = None,\n",
        "        clip_grad_norm: Optional[float] = None,\n",
        "        clip_grad_value: Optional[float] = None,\n",
        "        swa_params: Optional[SWAParams] = None,\n",
        "        torch_compile_params: Optional[TorchCompileParams] = None,\n",
        "        activation_checkpoint_params: Optional[ActivationCheckpointParams] = None,\n",
        "        training: bool = True,\n",
        "    ) -> None:\n",
        "        super().__init__(\n",
        "            module=module,\n",
        "            device=device,\n",
        "            strategy=strategy,\n",
        "            step_lr_interval=step_lr_interval,\n",
        "            precision=precision,\n",
        "            gradient_accumulation_steps=gradient_accumulation_steps,\n",
        "            detect_anomaly=detect_anomaly,\n",
        "            clip_grad_norm=clip_grad_norm,\n",
        "            clip_grad_value=clip_grad_value,\n",
        "            swa_params=swa_params,\n",
        "            torch_compile_params=torch_compile_params,\n",
        "            activation_checkpoint_params=activation_checkpoint_params,\n",
        "            training=training,\n",
        "        )\n",
        "        self.criterion = criterion\n",
        "        self.tb_logger = tb_logger\n",
        "        # create accuracy metrics to compute the accuracy of training and evaluation\n",
        "        self.train_accuracy = train_accuracy\n",
        "        self.eval_accuracy = eval_accuracy\n",
        "        self.train_cm = train_cm\n",
        "        self.eval_cm = eval_cm\n",
        "        self.log_every_n_steps = log_every_n_steps\n",
        "\n",
        "    def configure_optimizers_and_lr_scheduler(\n",
        "        self, module: torch.nn.Module\n",
        "    ) -> Tuple[torch.optim.Optimizer, Optional[TLRScheduler]]:\n",
        "        optimizer = torch.optim.Adam(module.parameters(), lr=0.001)\n",
        "        lr_scheduler = torch.optim.lr_scheduler.ExponentialLR(optimizer, gamma=1)\n",
        "        return optimizer, lr_scheduler\n",
        "\n",
        "\n",
        "\n",
        "\n",
        "    def compute_loss(\n",
        "        self, state: State, data: Batch\n",
        "    ) -> Tuple[torch.Tensor, torch.Tensor]:\n",
        "        inputs, targets = data\n",
        "        batch_size_current = inputs.size(0)\n",
        "        max_length = inputs.size(1)\n",
        "        # Hardcoding ALERT: num_layers=3, hiddensize=512\n",
        "        # External memory initialization\n",
        "        hPt = torch.zeros(3, batch_size_current, 512).to(device)\n",
        "        cPt = torch.zeros(3, batch_size_current, 512).to(device)\n",
        "        apecloss = 0\n",
        "        outputs = 0\n",
        "        juicebox = None\n",
        "        for i in range(max_length):\n",
        "\n",
        "            frames = inputs[:, i, :].unsqueeze(1)\n",
        "            output, (hPt, cPt)= self.module(frames, hPt, cPt)\n",
        "            #output, hPt= self.module(frames, hPt)\n",
        "            loss = criterion(output, targets)\n",
        "            apecloss += loss\n",
        "            outputs += output\n",
        "\n",
        "        apecloss = apecloss / max_length\n",
        "        outputs = outputs / max_length\n",
        "\n",
        "        #outputs = self.module(inputs)\n",
        "\n",
        "        #loss = self.criterion(outputs, targets)\n",
        "\n",
        "        return apecloss, outputs\n",
        "\n",
        "    def on_train_step_end(\n",
        "        self,\n",
        "        state: State,\n",
        "        data: Batch,\n",
        "        step: int,\n",
        "        results: TrainStepResults,\n",
        "    ) -> None:\n",
        "        loss, outputs = results.loss, results.outputs\n",
        "        _, targets = data\n",
        "        self.train_accuracy.update(outputs, targets)\n",
        "        self.train_cm.update(outputs, targets)\n",
        "        tb_logger = self.tb_logger\n",
        "\n",
        "        if step % self.log_every_n_steps == 0 and tb_logger is not None:\n",
        "            accuracy = self.train_accuracy.compute()\n",
        "            tb_logger.add_scalar(\"train_accuracy\", accuracy, step)\n",
        "            tb_logger.add_scalar(\"train_loss\", loss, step)\n",
        "\n",
        "            # print(f\"train_loss at step {step}: {loss}\")\n",
        "\n",
        "    def OLDon_train_epoch_end(self, state: State) -> None:\n",
        "        super().on_train_epoch_end(state)\n",
        "        # reset the metric every epoch\n",
        "        cm = self.train_cm.compute()\n",
        "        img = plot_cm(cm)\n",
        "        epoch = self.train_progress.num_epochs_completed\n",
        "        if tb_logger:\n",
        "            tb_logger.add_figure(\"train_cm\", img, epoch)\n",
        "        if epoch % 10 == 0:\n",
        "            if not os.path.exists(\"/content/drive/MyDrive/Colab Notebooks/shrec2021/output/checkpoints/\"):\n",
        "                os.mkdir(\"/content/drive/MyDrive/Colab Notebooks/shrec2021/output/checkpoints/\")\n",
        "            torch.save(self.module.state_dict(), f\"/content/drive/MyDrive/Colab Notebooks/shrec2021/output/checkpoints/Duocheckpoint_{epoch}.pt\")\n",
        "\n",
        "        #print(f\"train_cm at epoch {epoch}: {cm}\")\n",
        "        self.train_accuracy.reset()\n",
        "        self.train_cm.reset()\n",
        "\n",
        "    def on_train_epoch_end(self, state: State) -> None:\n",
        "        super().on_train_epoch_end(state)\n",
        "        # reset the metric every epoch\n",
        "\n",
        "        epoch = self.train_progress.num_epochs_completed\n",
        "\n",
        "        if epoch % 10 == 0:\n",
        "            if not os.path.exists(\"/content/drive/MyDrive/Colab Notebooks/shrec2021/output/checkpoints/\"):\n",
        "                os.mkdir(\"/content/drive/MyDrive/Colab Notebooks/shrec2021/output/checkpoints/\")\n",
        "            torch.save(self.module.state_dict(), f\"/content/drive/MyDrive/Colab Notebooks/shrec2021/output/checkpoints/Duocheckpoint_{epoch}.pt\")\n",
        "\n",
        "        #print(f\"train_cm at epoch {epoch}: {cm}\")\n",
        "        self.train_accuracy.reset()\n",
        "        self.train_cm.reset()\n",
        "\n",
        "    def on_eval_step_end(\n",
        "        self,\n",
        "        state: State,\n",
        "        data: Batch,\n",
        "        step: int,\n",
        "        loss: torch.Tensor,\n",
        "        outputs: torch.Tensor,\n",
        "    ) -> None:\n",
        "        _, targets = data\n",
        "        self.eval_accuracy.update(outputs, targets)\n",
        "        self.eval_cm.update(outputs, targets)\n",
        "\n",
        "    def OLDon_eval_end(self, state: State) -> None:\n",
        "        if state.entry_point == EntryPoint.FIT:\n",
        "            step = self.train_progress.num_steps_completed\n",
        "            epoch = self.train_progress.num_epochs_completed\n",
        "        else:\n",
        "            step = self.eval_progress.num_steps_completed\n",
        "            epoch = self.eval_progress.num_epochs_completed\n",
        "        accuracy = self.eval_accuracy.compute()\n",
        "        cm = self.eval_cm.compute()\n",
        "        img = plot_cm(cm)\n",
        "\n",
        "        tb_logger = self.tb_logger\n",
        "        if tb_logger is not None:\n",
        "            tb_logger.add_scalar(\"eval_accuracy\", accuracy, step)\n",
        "            tb_logger.add_figure(\"eval_cm\", img, epoch)\n",
        "        if accuracy > 0.89:\n",
        "            if not os.path.exists(\"/content/drive/MyDrive/Colab Notebooks/shrec2021/output/checkpoints/\"):\n",
        "                os.mkdir(\"/content/drive/MyDrive/Colab Notebooks/shrec2021/output/checkpoints/\")\n",
        "            torch.save(self.module.state_dict(), f\"/content/drive/MyDrive/Colab Notebooks/shrec2021/output/checkpoints/Duocheckpoint_eval.pt\")\n",
        "            print(\"Best!\")\n",
        "        print(f\"eval_accuracy at epoch {epoch}: {accuracy}\")\n",
        "        # print(f\"eval_cm: {cm}\")\n",
        "        self.eval_accuracy.reset()\n",
        "        self.eval_cm.reset()\n",
        "\n",
        "    def on_eval_end(self, state: State) -> None:\n",
        "        if state.entry_point == EntryPoint.FIT:\n",
        "            step = self.train_progress.num_steps_completed\n",
        "            epoch = self.train_progress.num_epochs_completed\n",
        "        else:\n",
        "            step = self.eval_progress.num_steps_completed\n",
        "            epoch = self.eval_progress.num_epochs_completed\n",
        "        accuracy = self.eval_accuracy.compute()\n",
        "        if accuracy > 0.89:\n",
        "            if not os.path.exists(\"/content/drive/MyDrive/Colab Notebooks/shrec2021/output/checkpoints/\"):\n",
        "                os.mkdir(\"/content/drive/MyDrive/Colab Notebooks/shrec2021/output/checkpoints/\")\n",
        "            torch.save(self.module.state_dict(), f\"/content/drive/MyDrive/Colab Notebooks/shrec2021/output/checkpoints/Duocheckpoint_eval.pt\")\n",
        "            print(\"Best!\")\n",
        "        print(f\"eval_accuracy at epoch {epoch}: {accuracy}\")\n",
        "        # print(f\"eval_cm: {cm}\")\n",
        "        self.eval_accuracy.reset()\n",
        "        self.eval_cm.reset()"
      ]
    },
    {
      "cell_type": "code",
      "execution_count": null,
      "metadata": {
        "id": "Gewzgr_gaUXq",
        "colab": {
          "base_uri": "https://localhost:8080/"
        },
        "outputId": "0005be43-1a94-4747-d6b0-211e9bd37afe"
      },
      "outputs": [
        {
          "output_type": "stream",
          "name": "stderr",
          "text": [
            "<ipython-input-38-c2b921b58bc9>:10: FutureWarning: You are using `torch.load` with `weights_only=False` (the current default value), which uses the default pickle module implicitly. It is possible to construct malicious pickle data which will execute arbitrary code during unpickling (See https://github.com/pytorch/pytorch/blob/main/SECURITY.md#untrusted-models for more details). In a future release, the default value for `weights_only` will be flipped to `True`. This limits the functions that could be executed during unpickling. Arbitrary objects will no longer be allowed to be loaded via this mode unless they are explicitly allowlisted by the user via `torch.serialization.add_safe_globals`. We recommend you start setting `weights_only=True` for any use case where you don't have full control of the loaded file. Please open an issue on GitHub for any issues related to this experimental feature.\n",
            "  checkpoint = torch.load(pathcheck)\n",
            "/usr/local/lib/python3.10/dist-packages/torch/nn/modules/rnn.py:123: UserWarning: dropout option adds dropout after all but last recurrent layer, so non-zero dropout expects num_layers greater than 1, but got dropout=0.2 and num_layers=1\n",
            "  warnings.warn(\n",
            "<ipython-input-38-c2b921b58bc9>:37: FutureWarning: You are using `torch.load` with `weights_only=False` (the current default value), which uses the default pickle module implicitly. It is possible to construct malicious pickle data which will execute arbitrary code during unpickling (See https://github.com/pytorch/pytorch/blob/main/SECURITY.md#untrusted-models for more details). In a future release, the default value for `weights_only` will be flipped to `True`. This limits the functions that could be executed during unpickling. Arbitrary objects will no longer be allowed to be loaded via this mode unless they are explicitly allowlisted by the user via `torch.serialization.add_safe_globals`. We recommend you start setting `weights_only=True` for any use case where you don't have full control of the loaded file. Please open an issue on GitHub for any issues related to this experimental feature.\n",
            "  checkpointMu = torch.load(pathcheckMu)\n"
          ]
        }
      ],
      "source": [
        "# seed the RNG for better reproducibility. see docs https://pytorch.org/docs/stable/notes/randomness.html\n",
        "seed(0)\n",
        "\n",
        "# device and process group initialization\n",
        "device = init_from_env()\n",
        "\n",
        "path = \"/content/drive/MyDrive/Colab Notebooks/shrec2021/output/\"\n",
        "pathcheck = \"/content/drive/MyDrive/Colab Notebooks/shrec2021/output/checkpoints/Duocheckpoint_eval (1).pt\"\n",
        "tb_logger = SummaryWriter(log_dir=path)\n",
        "checkpoint = torch.load(pathcheck)\n",
        "\n",
        "module = prepare_module(\"streamingBi\", input_shape, output_shape, device)\n",
        "module.load_state_dict(checkpoint)\n",
        "criterion = nn.CrossEntropyLoss()\n",
        "train_accuracy = MulticlassAccuracy(device=device)\n",
        "eval_accuracy = MulticlassAccuracy(device=device)\n",
        "train_cm = MulticlassConfusionMatrix(num_classes=output_shape, device=device)\n",
        "eval_cm = MulticlassConfusionMatrix(num_classes=output_shape, device=device)\n",
        "\n",
        "my_unitBi = SHRECUnit(\n",
        "    tb_logger=tb_logger,\n",
        "    train_accuracy=train_accuracy,\n",
        "    train_cm=train_cm,\n",
        "    eval_accuracy=eval_accuracy,\n",
        "    eval_cm=eval_cm,\n",
        "    module=module,\n",
        "    criterion=criterion,\n",
        "    device=device,\n",
        "    strategy=None,\n",
        "    log_every_n_steps=10,\n",
        "    gradient_accumulation_steps=1,\n",
        "    detect_anomaly=True,\n",
        "    clip_grad_norm=1.0,\n",
        ")\n",
        "\n",
        "pathcheckMu = \"/content/drive/MyDrive/Colab Notebooks/shrec2021/output/checkpoints/Spicheckpoint_40.pt\"\n",
        "checkpointMu = torch.load(pathcheckMu)\n",
        "\n",
        "moduleMu = prepare_module(\"streamingMu\", input_shape, output_shape, device)\n",
        "moduleMu.load_state_dict(checkpointMu)\n",
        "criterionMu = nn.CrossEntropyLoss()\n",
        "train_accuracyMu = MulticlassAccuracy(device=device)\n",
        "eval_accuracyMu = MulticlassAccuracy(device=device)\n",
        "train_cmMu = MulticlassConfusionMatrix(num_classes=output_shape, device=device)\n",
        "eval_cmMu = MulticlassConfusionMatrix(num_classes=output_shape, device=device)\n",
        "\n",
        "my_unitMu = SHRECUnit(\n",
        "    tb_logger=tb_logger,\n",
        "    train_accuracy=train_accuracyMu,\n",
        "    train_cm=train_cmMu,\n",
        "    eval_accuracy=eval_accuracyMu,\n",
        "    eval_cm=eval_cmMu,\n",
        "    module=moduleMu,\n",
        "    criterion=criterionMu,\n",
        "    device=device,\n",
        "    strategy=None,\n",
        "    log_every_n_steps=10,\n",
        "    gradient_accumulation_steps=1,\n",
        "    detect_anomaly=True,\n",
        "    clip_grad_norm=1.0,\n",
        ")\n",
        "\n",
        "progress_bar = TQDMProgressBar(refresh_rate=10)\n",
        "garbage_collector = GarbageCollector(step_interval=51)\n",
        "#snapshot_saver = TorchSnapshotSaver(dirpath=\"/content/drive/MyDrive/Colab Notebooks/shrec2021/output/snapshots/\", save_every_n_epochs=5, keep_last_n_checkpoints=2)\n",
        "callbacks = [\n",
        "    # progress_bar,\n",
        "    garbage_collector,\n",
        "    # snapshot_saver,\n",
        "]"
      ]
    },
    {
      "cell_type": "code",
      "execution_count": null,
      "metadata": {
        "colab": {
          "base_uri": "https://localhost:8080/"
        },
        "id": "2n6qw8YLt45e",
        "outputId": "6feb0088-8044-4da6-f75a-90d1115893b5"
      },
      "outputs": [
        {
          "output_type": "stream",
          "name": "stdout",
          "text": [
            "{'Total': 408066, 'Trainable': 408066}\n",
            "{'Total': 1392657, 'Trainable': 1392657}\n",
            "StreamingSightBi(\n",
            "  (rnns): LSTM(140, 256, batch_first=True, dropout=0.2)\n",
            "  (flatten): Flatten(start_dim=1, end_dim=-1)\n",
            "  (fc2): Linear(in_features=256, out_features=2, bias=True)\n",
            ")\n",
            "StreamingSightMu(\n",
            "  (rnnsfc1): Linear(in_features=652, out_features=512, bias=True)\n",
            "  (dropout1): Dropout(p=0.2, inplace=False)\n",
            "  (rnnsfc2): Linear(in_features=1024, out_features=512, bias=True)\n",
            "  (dropout2): Dropout(p=0.2, inplace=False)\n",
            "  (rnnsfc3): Linear(in_features=1024, out_features=512, bias=True)\n",
            "  (dropout3): Dropout(p=0.2, inplace=False)\n",
            "  (flatten): Flatten(start_dim=1, end_dim=-1)\n",
            "  (fc2): Linear(in_features=512, out_features=17, bias=True)\n",
            ")\n"
          ]
        }
      ],
      "source": [
        "def get_parameter_number(model):\n",
        "    total_num = sum(p.numel() for p in model.parameters())\n",
        "    trainable_num = sum(p.numel() for p in model.parameters() if p.requires_grad)\n",
        "    return {'Total': total_num, 'Trainable': trainable_num}\n",
        "print(get_parameter_number(my_unitBi.module))\n",
        "print(get_parameter_number(my_unitMu.module))\n",
        "print(my_unitBi.module)\n",
        "print(my_unitMu.module)"
      ]
    },
    {
      "cell_type": "code",
      "execution_count": null,
      "metadata": {
        "id": "D8H9DD5P4saV"
      },
      "outputs": [],
      "source": [
        "\n",
        "fit(\n",
        "    my_unitMu,\n",
        "    train_dataloader=train_loader,\n",
        "    eval_dataloader=test_loader,\n",
        "    max_epochs=100,\n",
        "    callbacks=callbacks,\n",
        ")"
      ]
    },
    {
      "cell_type": "code",
      "execution_count": null,
      "metadata": {
        "id": "1dphXHtRAXhc"
      },
      "outputs": [],
      "source": [
        " # Look at training curves in tensorboard:\n",
        " %load_ext tensorboard\n",
        " %tensorboard --logdir \"/content/drive/MyDrive/Colab Notebooks/shrec2021/output\""
      ]
    },
    {
      "cell_type": "markdown",
      "source": [
        "## Results\n",
        "\n",
        "Here are the experimental results based on three key indicators: detection rate, false alarm rate and Jaccard index"
      ],
      "metadata": {
        "id": "2Eer9i_WFn-R"
      }
    },
    {
      "cell_type": "code",
      "execution_count": null,
      "metadata": {
        "id": "0a3unxo30vAg"
      },
      "outputs": [],
      "source": [
        "def online_plot(outputs_list, input_test, input_label, frame_sequence):\n",
        "    outputs_list_ = np.array(outputs_list)\n",
        "    color_list_11 = ['b-', 'g-', 'r-', 'c-', 'm-', 'y-', 'k-', 'b--', 'g--', 'r--', 'c--', 'm--', 'y--', 'k--', 'b-.', 'g-.', 'r-.', 'c-.', 'm-.', 'y-.', 'k-.', 'b:', 'g:', 'r:', 'c:', 'm:', 'y:', 'k:', 'b.']\n",
        "    list_ = np.zeros((17, len(input_test)))\n",
        "    for i, index in enumerate(frame_sequence):\n",
        "        if i % 2 == 0:\n",
        "            list_[input_label[int(i / 2)]][frame_sequence[i]:frame_sequence[i + 1]] = 1\n",
        "    list__ = np.transpose(list_)\n",
        "    x_axis = np.arange(np.shape(outputs_list_)[0])\n",
        "    x_axis_tile = np.tile(x_axis, (np.shape(outputs_list_)[1], 1))\n",
        "    x_axis_tile_t = np.transpose(x_axis_tile)\n",
        "    fig, (ax1, ax2) = plt.subplots(figsize=(6,6), nrows=2, sharex=True)\n",
        "    labelsp = [\"0\", \"1\", \"2\", \"3\", \"4\", \"5\", \"6\", \"7\", \"8\", \"9\", \"10\", \"11\", \"12\", \"13\", \"14\", \"15\", \"16\", \"17\"]\n",
        "    for i in range(17):\n",
        "        if i in input_label :\n",
        "            #continue\n",
        "            ax1.plot(np.concatenate((np.arange(0), x_axis_tile_t[:, i]/50 + 0)),\n",
        "                     np.concatenate((np.ones(0) *np.mean(outputs_list_[:, 0]), outputs_list_[:, i])), color_list_11[i], label = labelsp[i])\n",
        "\n",
        "    for i in range(17):\n",
        "        if i == 0:\n",
        "            continue\n",
        "        ax2.plot(np.concatenate((np.arange(0), x_axis_tile_t[:, i] / 50))[:len(list__)], list__[:, i],\n",
        "                 color_list_11[i])\n",
        "    ax1.legend()\n",
        "    plt.show()\n",
        "\n",
        "def read_annotation_idx(fname_,idx):\n",
        "    gesture_name = ['ONE','TWO','THREE','FOUR','OK','MENU', 'LEFT',\n",
        "                    'RIGHT','CIRCLE','V','CROSS','GRAB','PINCH','TAP','DENY', 'KNOB','EXPAND']\n",
        "    with open(fname_) as f:\n",
        "        lines = f.readlines()\n",
        "\n",
        "    gesture_name_list = []\n",
        "    start_idx_list = []\n",
        "    end_idx_list = []\n",
        "    annotation_idx_list = []\n",
        "    for i in range(len(lines)):\n",
        "\n",
        "        gesture_name_list.append(lines[i].split(';')[1:-1][::3])\n",
        "        start_idx_list.append(lines[i].split(';')[2:-1][::3])\n",
        "        end_idx_list.append(lines[i].split(';')[0:-1][::3][1:])\n",
        "        annotation_idx_list.append(int(lines[i].split(';')[0]))\n",
        "\n",
        "    gesture_name_list = [x for _, x in sorted(zip(annotation_idx_list, gesture_name_list))]\n",
        "    start_idx_list = [x for _, x in sorted(zip(annotation_idx_list, start_idx_list))]\n",
        "    end_idx_list = [x for _, x in sorted(zip(annotation_idx_list, end_idx_list))]\n",
        "\n",
        "    label = gesture_name_list[idx]\n",
        "    start_idx_list_ = start_idx_list[idx]\n",
        "    end_idx_list_ = end_idx_list[idx]\n",
        "    frame_sequence = [[int(start_idx_list_[i]),int(end_idx_list_[i])] for i in range(len(start_idx_list_))]\n",
        "\n",
        "    return label, frame_sequence\n",
        "\n",
        "def online_rec_frame_based(modelBi, modelMu, max_length, window_step, input_test):\n",
        "    outputs_list = []\n",
        "    y_pred_list = []\n",
        "    y_pred_value_list = []\n",
        "    recent_outputs = []\n",
        "    gating_list = []\n",
        "    num_classes = 17  # Number of categories for multi-classification models\n",
        "    default_output = np.zeros(num_classes)  # All zero vector, indicating no prediction\n",
        "    default_class = -1  # Special category number, indicating unpredicted\n",
        "    default_confidence = 0.0  # Default confidence level\n",
        "    modelBi.eval()\n",
        "    modelBi.to('cpu')\n",
        "    modelMu.eval()\n",
        "    modelMu.to('cpu')\n",
        "    # External memory (hidden state) initialization\n",
        "    hPtMu = torch.zeros(3, 1, 512)\n",
        "    hPtBi = torch.zeros(1, 1, 256)\n",
        "    cPtBi = torch.zeros(1, 1, 256)\n",
        "    # Initialize counters for memory reset and output results\n",
        "    counter = 0\n",
        "    counter2 = 0\n",
        "    # Initialize state variables\n",
        "    is_running_multiclass_model = False  # Mark whether the multi-classification model is running\n",
        "    multiclass_model_frames_counter = 0  # The number of frames that the multi-classification model has run\n",
        "\n",
        "    # Defining Thresholds\n",
        "    start_confidence_threshold = 0.6  # Confidence threshold for starting a multi-classification model\n",
        "    stop_confidence_threshold = 0.4    # Confidence threshold for stopping multi-classification models\n",
        "    min_frames_to_run = 10             # Minimum number of frames required to run a multi-classification model\n",
        "\n",
        "    with torch.no_grad():\n",
        "        # Iterate through each frame\n",
        "        for frame_idx in tqdm.tqdm(range(len(input_test))):\n",
        "            # Get the data of the current frame\n",
        "            # Ablation Experiment\n",
        "            #hPtMu = torch.zeros(3, 1, 512)\n",
        "            #hPtBi = torch.zeros(1, 1, 256)\n",
        "            #cPtBi = torch.zeros(1, 1, 256)\n",
        "            input_frame = input_test[frame_idx:frame_idx+1]\n",
        "\n",
        "            # Convert input data to Tensor\n",
        "            input_tensor = input_frame.unsqueeze(0).float()\n",
        "\n",
        "            # Process the current frame and update the hidden state of LSTM\n",
        "            outputsBi, (hPtBi, cPtBi) = modelBi(input_tensor, hPtBi, cPtBi)\n",
        "\n",
        "            outputs_softmaxBi = F.softmax(outputsBi, dim=1)\n",
        "            confidence_effective_gesture = outputs_softmaxBi[0][1].item()  # Get the confidence of \"valid gesture\"\n",
        "\n",
        "            counter2 += 1\n",
        "            iso = 5\n",
        "            distances = [torch.norm(input_test[frame_idx] - input_test[i]).item() for i in range(frame_idx-20, frame_idx)]\n",
        "\n",
        "            # Calculate the average distance between two time periods and the current time point\n",
        "            avg_distance_1_10 = sum(distances[:10]) / 10\n",
        "            avg_distance_11_20 = sum(distances[10:20]) / 10\n",
        "            # If the difference between the two is too large, an external memory reset is triggered\n",
        "            if (avg_distance_1_10 / avg_distance_11_20 > 3) and counter2 > window_step:\n",
        "              #print(\"Resetting LSTM hidden state.\", frame_idx)\n",
        "              counter2 = 0\n",
        "              hPtBi = torch.zeros(1, 1, 256)\n",
        "              cPtBi = torch.zeros(1, 1, 256)\n",
        "\n",
        "            if (avg_distance_1_10 / avg_distance_11_20 > 3) and multiclass_model_frames_counter >= min_frames_to_run:\n",
        "              #print(\"Resetting LSTM hidden state.\", frame_idx)\n",
        "              is_running_multiclass_model = False\n",
        "              gating_list.append(frame_idx)\n",
        "              multiclass_model_frames_counter = 0\n",
        "              hPtBi = torch.zeros(1, 1, 256)\n",
        "              cPtBi = torch.zeros(1, 1, 256)\n",
        "\n",
        "            if not is_running_multiclass_model and confidence_effective_gesture > start_confidence_threshold:\n",
        "                is_running_multiclass_model = True\n",
        "                multiclass_model_frames_counter = 0  # Reset Counter\n",
        "                gating_list.append(frame_idx)\n",
        "                hPtMu = torch.zeros(3, 1, 512)\n",
        "                #hPtBi = torch.zeros(1, 1, 256)\n",
        "                #cPtBi = torch.zeros(1, 1, 256)\n",
        "            if is_running_multiclass_model:\n",
        "                outputs, hPtMu = modelMu(input_tensor, hPtMu)\n",
        "                outputs_softmax = F.softmax(outputs, dim=1)\n",
        "                recent_outputs.append(outputs_softmax)\n",
        "\n",
        "                counter += 1\n",
        "\n",
        "                # Output a result every accumulated window_step frames\n",
        "                if counter2==window_step or counter==window_step:\n",
        "                    # Calculate the average confidence of window_step\n",
        "                    average_confidence = torch.mean(torch.cat([torch.max(out, dim=1).values for out in recent_outputs[-5:]]))\n",
        "\n",
        "\n",
        "                    # Get the output of the most recent half_max_length frame for voting\n",
        "                    half_max_length = int(iso) # It is now hardcoded to 5\n",
        "                    window_outputs = recent_outputs[-half_max_length:] if len(recent_outputs) >= half_max_length else recent_outputs[:]\n",
        "                    class_votes = {}\n",
        "                    for output in window_outputs:\n",
        "                        _, predicted = torch.max(output.data, 1)\n",
        "                        predicted_class = int(predicted)\n",
        "                        class_votes[predicted_class] = class_votes.get(predicted_class, 0) + 1\n",
        "\n",
        "                    # Get the category with the most votes\n",
        "                    most_voted_class = max(class_votes, key=class_votes.get)\n",
        "                    # Determine the index with the most votes\n",
        "                    most_voted_index = [idx for idx, output in enumerate(window_outputs) if torch.max(output.data, 1)[1].item() == most_voted_class][0]\n",
        "                    most_voted_output = window_outputs[most_voted_index].squeeze(0)\n",
        "                    y_pred_value = torch.max(most_voted_output)\n",
        "                    #print(most_voted_class, frame_idx, average_confidence)\n",
        "\n",
        "                    y_pred_list.append(most_voted_class)\n",
        "                    outputs_list.append(most_voted_output.numpy())\n",
        "                    y_pred_value_list.append(float(y_pred_value))\n",
        "\n",
        "                    counter = 0\n",
        "                    multiclass_model_frames_counter += 1\n",
        "\n",
        "                # Check if the stop condition is met\n",
        "                if multiclass_model_frames_counter >= min_frames_to_run and confidence_effective_gesture < stop_confidence_threshold:\n",
        "                    is_running_multiclass_model = False\n",
        "                    gating_list.append(frame_idx)\n",
        "                    #hPtBi = torch.zeros(1, 1, 256)\n",
        "                    #cPtBi = torch.zeros(1, 1, 256)\n",
        "            else:\n",
        "                # The multi-classification model is not running, fill in the default value\n",
        "                y_pred_list.append(default_class)\n",
        "                outputs_list.append(default_output)\n",
        "                y_pred_value_list.append(default_confidence)\n",
        "    return y_pred_list, outputs_list, y_pred_value_list, gating_list"
      ]
    },
    {
      "cell_type": "code",
      "execution_count": null,
      "metadata": {
        "id": "Hg4VeVoNh02q",
        "colab": {
          "base_uri": "https://localhost:8080/",
          "height": 665
        },
        "outputId": "b0903ecf-c10b-40dc-8e0a-0d06d59f3e92"
      },
      "outputs": [
        {
          "output_type": "stream",
          "name": "stdout",
          "text": [
            "tensor([ 280,  449,  741,  778, 1382, 1393, 1764, 1784], dtype=torch.int32)\n",
            "[14, 11, 12, 16]\n",
            "['DENY', 'GRAB', 'PINCH', 'EXPAND']\n"
          ]
        },
        {
          "output_type": "stream",
          "name": "stderr",
          "text": [
            "100%|██████████| 1913/1913 [00:02<00:00, 939.40it/s]\n"
          ]
        },
        {
          "output_type": "display_data",
          "data": {
            "text/plain": [
              "<Figure size 600x600 with 2 Axes>"
            ],
            "image/png": "[encoded data removed]"
          },
          "metadata": {}
        },
        {
          "output_type": "stream",
          "name": "stdout",
          "text": [
            "Gesture 14 latency: 14 frames\n",
            "Gesture 11 latency: 3 frames\n",
            "Gesture 12 latency: 0 frames\n",
            "Gesture 16 latency: 17 frames\n"
          ]
        }
      ],
      "source": [
        "import numpy as np\n",
        "import torch\n",
        "import tqdm\n",
        "pos = True\n",
        "quat = True\n",
        "\n",
        "fname_ = '{}/test_set/annotations_revised.txt'.format(MAIN_FOLDER)\n",
        "\n",
        "# Loop through the sequences and output the results and latencys.\n",
        "for idx in range(109, 110):\n",
        "  filename = '{}/test_set/sequences/{}.txt'.format(MAIN_FOLDER,idx)\n",
        "\n",
        "  data_ = np.genfromtxt(filename, delimiter=';')\n",
        "  data = np.delete(data_, -1, axis=1)\n",
        "\n",
        "  data = select_joint(data)\n",
        "\n",
        "  data = torch.from_numpy(data).float()\n",
        "\n",
        "\n",
        "\n",
        "  label, frame_sequence = read_annotation_idx(fname_, idx-109)\n",
        "  frame_sequence = np.reshape(frame_sequence, (-1))\n",
        "\n",
        "  frame_sequence = torch.tensor(frame_sequence, dtype=torch.int32)\n",
        "\n",
        "  classes = ['ONE', 'TWO', 'THREE', 'FOUR', 'OK', 'MENU', 'LEFT', 'RIGHT', 'CIRCLE', 'V', 'CROSS', 'GRAB', 'PINCH', 'TAP', 'DENY', 'KNOB', 'EXPAND']\n",
        "  y_true = [classes.index(x) for x in label]\n",
        "  print(frame_sequence)\n",
        "  print(y_true)\n",
        "  print(label)\n",
        "  #print(data.shape)\n",
        "  y_pred_list, outputs_list, y_pred_value_list, gating_list = online_rec_frame_based(my_unitBi.module, my_unitMu.module, 250, 1, data)\n",
        "\n",
        "  #evaluate_model2(frame_sequence, y_true, y_pred_list)\n",
        "  #print(y_pred_list)\n",
        "  #print(gating_list)\n",
        "  online_plot(outputs_list, data, y_true, frame_sequence)\n",
        "  y_true_temp = [classes.index(x) for x in label]\n",
        "  indey=0\n",
        "  for x in range(len(y_pred_list)):\n",
        "    if indey > len(y_true) - 1:\n",
        "      break\n",
        "    if y_true_temp[indey]==y_pred_list[x] and x>=frame_sequence[indey*2]:\n",
        "      print(\"Gesture\", int(y_true_temp[indey]), \"latency:\", x - int(frame_sequence[indey*2]), \"frames\")\n",
        "      indey = indey + 1\n"
      ]
    },
    {
      "cell_type": "code",
      "execution_count": null,
      "metadata": {
        "id": "s772J_E-x0QZ",
        "colab": {
          "base_uri": "https://localhost:8080/",
          "height": 1000
        },
        "outputId": "6139d9db-f115-41c6-abd4-fb66c542a6f8"
      },
      "outputs": [
        {
          "output_type": "stream",
          "name": "stderr",
          "text": [
            "100%|██████████| 1913/1913 [00:02<00:00, 923.38it/s]\n"
          ]
        },
        {
          "output_type": "stream",
          "name": "stdout",
          "text": [
            "Results for the current sequence:\n",
            "Class 11:\n",
            "  Recall: 1.00\n",
            "  Average Latency: 3.00 frames\n",
            "Class 12:\n",
            "  Recall: 1.00\n",
            "  Average Latency: -1.00 frames\n",
            "Class 14:\n",
            "  Recall: 1.00\n",
            "  Average Latency: 7.00 frames\n",
            "Class 16:\n",
            "  Recall: 0.00\n",
            "  Average Latency: No data\n",
            "\n",
            "\n"
          ]
        },
        {
          "output_type": "stream",
          "name": "stderr",
          "text": [
            "100%|██████████| 1581/1581 [00:01<00:00, 927.63it/s]\n"
          ]
        },
        {
          "output_type": "stream",
          "name": "stdout",
          "text": [
            "Results for the current sequence:\n",
            "Class 2:\n",
            "  Recall: 1.00\n",
            "  Average Latency: 3.00 frames\n",
            "Class 15:\n",
            "  Recall: 1.00\n",
            "  Average Latency: 4.00 frames\n",
            "Class 16:\n",
            "  Recall: 1.00\n",
            "  Average Latency: 15.00 frames\n",
            "\n",
            "\n"
          ]
        },
        {
          "output_type": "stream",
          "name": "stderr",
          "text": [
            "100%|██████████| 1578/1578 [00:01<00:00, 873.82it/s]\n"
          ]
        },
        {
          "output_type": "stream",
          "name": "stdout",
          "text": [
            "Results for the current sequence:\n",
            "Class 10:\n",
            "  Recall: 0.00\n",
            "  Average Latency: No data\n",
            "Class 12:\n",
            "  Recall: 0.00\n",
            "  Average Latency: No data\n",
            "Class 13:\n",
            "  Recall: 1.00\n",
            "  Average Latency: 7.00 frames\n",
            "\n",
            "\n"
          ]
        },
        {
          "output_type": "stream",
          "name": "stderr",
          "text": [
            "100%|██████████| 1708/1708 [00:02<00:00, 780.56it/s]\n"
          ]
        },
        {
          "output_type": "stream",
          "name": "stdout",
          "text": [
            "Results for the current sequence:\n",
            "Class 0:\n",
            "  Recall: 1.00\n",
            "  Average Latency: 7.50 frames\n",
            "Class 7:\n",
            "  Recall: 0.00\n",
            "  Average Latency: No data\n",
            "\n",
            "\n"
          ]
        },
        {
          "output_type": "stream",
          "name": "stderr",
          "text": [
            "100%|██████████| 1623/1623 [00:01<00:00, 854.95it/s]\n"
          ]
        },
        {
          "output_type": "stream",
          "name": "stdout",
          "text": [
            "Results for the current sequence:\n",
            "Class 5:\n",
            "  Recall: 1.00\n",
            "  Average Latency: 1.00 frames\n",
            "Class 11:\n",
            "  Recall: 0.00\n",
            "  Average Latency: No data\n",
            "Class 15:\n",
            "  Recall: 1.00\n",
            "  Average Latency: 6.00 frames\n",
            "\n",
            "\n"
          ]
        },
        {
          "output_type": "stream",
          "name": "stderr",
          "text": [
            "100%|██████████| 1384/1384 [00:01<00:00, 943.53it/s]\n"
          ]
        },
        {
          "output_type": "stream",
          "name": "stdout",
          "text": [
            "Results for the current sequence:\n",
            "Class 0:\n",
            "  Recall: 1.00\n",
            "  Average Latency: 9.00 frames\n",
            "Class 1:\n",
            "  Recall: 1.00\n",
            "  Average Latency: 5.00 frames\n",
            "Class 7:\n",
            "  Recall: 0.00\n",
            "  Average Latency: No data\n",
            "Class 11:\n",
            "  Recall: 0.00\n",
            "  Average Latency: No data\n",
            "\n",
            "\n"
          ]
        },
        {
          "output_type": "stream",
          "name": "stderr",
          "text": [
            "100%|██████████| 1718/1718 [00:01<00:00, 894.06it/s]\n"
          ]
        },
        {
          "output_type": "stream",
          "name": "stdout",
          "text": [
            "Results for the current sequence:\n",
            "Class 4:\n",
            "  Recall: 1.00\n",
            "  Average Latency: 6.00 frames\n",
            "Class 9:\n",
            "  Recall: 1.00\n",
            "  Average Latency: 16.00 frames\n",
            "Class 11:\n",
            "  Recall: 0.00\n",
            "  Average Latency: No data\n",
            "Class 15:\n",
            "  Recall: 1.00\n",
            "  Average Latency: 12.00 frames\n",
            "\n",
            "\n"
          ]
        },
        {
          "output_type": "stream",
          "name": "stderr",
          "text": [
            "100%|██████████| 2095/2095 [00:02<00:00, 879.88it/s]\n"
          ]
        },
        {
          "output_type": "stream",
          "name": "stdout",
          "text": [
            "Results for the current sequence:\n",
            "Class 1:\n",
            "  Recall: 1.00\n",
            "  Average Latency: 2.00 frames\n",
            "Class 7:\n",
            "  Recall: 0.00\n",
            "  Average Latency: No data\n",
            "Class 9:\n",
            "  Recall: 1.00\n",
            "  Average Latency: -0.50 frames\n",
            "\n",
            "\n"
          ]
        },
        {
          "output_type": "stream",
          "name": "stderr",
          "text": [
            "100%|██████████| 1410/1410 [00:01<00:00, 1011.63it/s]\n"
          ]
        },
        {
          "output_type": "stream",
          "name": "stdout",
          "text": [
            "Results for the current sequence:\n",
            "Class 6:\n",
            "  Recall: 0.00\n",
            "  Average Latency: No data\n",
            "Class 15:\n",
            "  Recall: 0.00\n",
            "  Average Latency: No data\n",
            "Class 16:\n",
            "  Recall: 0.00\n",
            "  Average Latency: No data\n",
            "\n",
            "\n"
          ]
        },
        {
          "output_type": "stream",
          "name": "stderr",
          "text": [
            "100%|██████████| 2003/2003 [00:02<00:00, 731.13it/s]\n"
          ]
        },
        {
          "output_type": "stream",
          "name": "stdout",
          "text": [
            "Results for the current sequence:\n",
            "Class 1:\n",
            "  Recall: 1.00\n",
            "  Average Latency: 5.00 frames\n",
            "Class 2:\n",
            "  Recall: 1.00\n",
            "  Average Latency: 3.00 frames\n",
            "Class 10:\n",
            "  Recall: 1.00\n",
            "  Average Latency: -1.00 frames\n",
            "\n",
            "\n"
          ]
        },
        {
          "output_type": "stream",
          "name": "stderr",
          "text": [
            "100%|██████████| 1710/1710 [00:01<00:00, 860.12it/s]\n"
          ]
        },
        {
          "output_type": "stream",
          "name": "stdout",
          "text": [
            "Results for the current sequence:\n",
            "Class 2:\n",
            "  Recall: 1.00\n",
            "  Average Latency: 2.00 frames\n",
            "Class 4:\n",
            "  Recall: 1.00\n",
            "  Average Latency: 11.00 frames\n",
            "Class 5:\n",
            "  Recall: 1.00\n",
            "  Average Latency: 9.00 frames\n",
            "\n",
            "\n"
          ]
        },
        {
          "output_type": "stream",
          "name": "stderr",
          "text": [
            "100%|██████████| 2155/2155 [00:02<00:00, 895.71it/s]\n"
          ]
        },
        {
          "output_type": "stream",
          "name": "stdout",
          "text": [
            "Results for the current sequence:\n",
            "Class 1:\n",
            "  Recall: 1.00\n",
            "  Average Latency: -1.00 frames\n",
            "Class 2:\n",
            "  Recall: 1.00\n",
            "  Average Latency: 6.00 frames\n",
            "Class 7:\n",
            "  Recall: 1.00\n",
            "  Average Latency: 3.00 frames\n",
            "Class 11:\n",
            "  Recall: 0.00\n",
            "  Average Latency: No data\n",
            "\n",
            "\n"
          ]
        },
        {
          "output_type": "stream",
          "name": "stderr",
          "text": [
            "100%|██████████| 1327/1327 [00:01<00:00, 981.82it/s] \n"
          ]
        },
        {
          "output_type": "stream",
          "name": "stdout",
          "text": [
            "Results for the current sequence:\n",
            "Class 8:\n",
            "  Recall: 0.00\n",
            "  Average Latency: No data\n",
            "Class 9:\n",
            "  Recall: 0.00\n",
            "  Average Latency: No data\n",
            "\n",
            "\n"
          ]
        },
        {
          "output_type": "stream",
          "name": "stderr",
          "text": [
            "100%|██████████| 1328/1328 [00:01<00:00, 937.26it/s]\n"
          ]
        },
        {
          "output_type": "stream",
          "name": "stdout",
          "text": [
            "Results for the current sequence:\n",
            "Class 3:\n",
            "  Recall: 1.00\n",
            "  Average Latency: 9.00 frames\n",
            "Class 7:\n",
            "  Recall: 0.00\n",
            "  Average Latency: No data\n",
            "Class 12:\n",
            "  Recall: 1.00\n",
            "  Average Latency: 13.00 frames\n",
            "\n",
            "\n"
          ]
        },
        {
          "output_type": "stream",
          "name": "stderr",
          "text": [
            "100%|██████████| 2309/2309 [00:02<00:00, 817.18it/s]\n"
          ]
        },
        {
          "output_type": "stream",
          "name": "stdout",
          "text": [
            "Results for the current sequence:\n",
            "Class 0:\n",
            "  Recall: 1.00\n",
            "  Average Latency: 4.00 frames\n",
            "Class 8:\n",
            "  Recall: 0.00\n",
            "  Average Latency: No data\n",
            "Class 11:\n",
            "  Recall: 1.00\n",
            "  Average Latency: 2.00 frames\n",
            "Class 13:\n",
            "  Recall: 1.00\n",
            "  Average Latency: 18.00 frames\n",
            "\n",
            "\n"
          ]
        },
        {
          "output_type": "stream",
          "name": "stderr",
          "text": [
            "100%|██████████| 1713/1713 [00:02<00:00, 801.45it/s]\n"
          ]
        },
        {
          "output_type": "stream",
          "name": "stdout",
          "text": [
            "Results for the current sequence:\n",
            "Class 0:\n",
            "  Recall: 1.00\n",
            "  Average Latency: 3.00 frames\n",
            "Class 3:\n",
            "  Recall: 1.00\n",
            "  Average Latency: 2.00 frames\n",
            "Class 6:\n",
            "  Recall: 1.00\n",
            "  Average Latency: 2.00 frames\n",
            "\n",
            "\n"
          ]
        },
        {
          "output_type": "stream",
          "name": "stderr",
          "text": [
            "100%|██████████| 1943/1943 [00:02<00:00, 889.99it/s]\n"
          ]
        },
        {
          "output_type": "stream",
          "name": "stdout",
          "text": [
            "Results for the current sequence:\n",
            "Class 5:\n",
            "  Recall: 1.00\n",
            "  Average Latency: 3.00 frames\n",
            "Class 8:\n",
            "  Recall: 1.00\n",
            "  Average Latency: 7.00 frames\n",
            "Class 10:\n",
            "  Recall: 0.00\n",
            "  Average Latency: No data\n",
            "Class 12:\n",
            "  Recall: 1.00\n",
            "  Average Latency: 4.00 frames\n",
            "\n",
            "\n"
          ]
        },
        {
          "output_type": "stream",
          "name": "stderr",
          "text": [
            "100%|██████████| 2199/2199 [00:02<00:00, 873.90it/s]\n"
          ]
        },
        {
          "output_type": "stream",
          "name": "stdout",
          "text": [
            "Results for the current sequence:\n",
            "Class 0:\n",
            "  Recall: 1.00\n",
            "  Average Latency: -1.00 frames\n",
            "Class 6:\n",
            "  Recall: 1.00\n",
            "  Average Latency: -6.00 frames\n",
            "Class 8:\n",
            "  Recall: 1.00\n",
            "  Average Latency: 11.00 frames\n",
            "Class 10:\n",
            "  Recall: 1.00\n",
            "  Average Latency: 24.00 frames\n",
            "Class 15:\n",
            "  Recall: 1.00\n",
            "  Average Latency: -21.00 frames\n",
            "\n",
            "\n"
          ]
        },
        {
          "output_type": "stream",
          "name": "stderr",
          "text": [
            "100%|██████████| 1985/1985 [00:02<00:00, 815.69it/s]\n"
          ]
        },
        {
          "output_type": "stream",
          "name": "stdout",
          "text": [
            "Results for the current sequence:\n",
            "Class 1:\n",
            "  Recall: 1.00\n",
            "  Average Latency: 2.00 frames\n",
            "Class 2:\n",
            "  Recall: 1.00\n",
            "  Average Latency: 4.00 frames\n",
            "Class 3:\n",
            "  Recall: 1.00\n",
            "  Average Latency: -1.00 frames\n",
            "Class 4:\n",
            "  Recall: 0.00\n",
            "  Average Latency: No data\n",
            "\n",
            "\n"
          ]
        },
        {
          "output_type": "stream",
          "name": "stderr",
          "text": [
            "100%|██████████| 1850/1850 [00:02<00:00, 819.17it/s]\n"
          ]
        },
        {
          "output_type": "stream",
          "name": "stdout",
          "text": [
            "Results for the current sequence:\n",
            "Class 1:\n",
            "  Recall: 1.00\n",
            "  Average Latency: 4.00 frames\n",
            "Class 2:\n",
            "  Recall: 1.00\n",
            "  Average Latency: 2.00 frames\n",
            "Class 10:\n",
            "  Recall: 0.00\n",
            "  Average Latency: No data\n",
            "Class 16:\n",
            "  Recall: 0.00\n",
            "  Average Latency: No data\n",
            "\n",
            "\n"
          ]
        },
        {
          "output_type": "stream",
          "name": "stderr",
          "text": [
            "100%|██████████| 1287/1287 [00:01<00:00, 739.44it/s]\n"
          ]
        },
        {
          "output_type": "stream",
          "name": "stdout",
          "text": [
            "Results for the current sequence:\n",
            "Class 0:\n",
            "  Recall: 1.00\n",
            "  Average Latency: 9.00 frames\n",
            "Class 1:\n",
            "  Recall: 1.00\n",
            "  Average Latency: 13.00 frames\n",
            "Class 5:\n",
            "  Recall: 1.00\n",
            "  Average Latency: 7.00 frames\n",
            "Class 6:\n",
            "  Recall: 1.00\n",
            "  Average Latency: 0.00 frames\n",
            "\n",
            "\n"
          ]
        },
        {
          "output_type": "stream",
          "name": "stderr",
          "text": [
            "100%|██████████| 2231/2231 [00:02<00:00, 798.63it/s]\n"
          ]
        },
        {
          "output_type": "stream",
          "name": "stdout",
          "text": [
            "Results for the current sequence:\n",
            "Class 3:\n",
            "  Recall: 1.00\n",
            "  Average Latency: 8.00 frames\n",
            "Class 4:\n",
            "  Recall: 1.00\n",
            "  Average Latency: 8.00 frames\n",
            "Class 6:\n",
            "  Recall: 1.00\n",
            "  Average Latency: 5.00 frames\n",
            "Class 14:\n",
            "  Recall: 1.00\n",
            "  Average Latency: 8.00 frames\n",
            "Class 15:\n",
            "  Recall: 1.00\n",
            "  Average Latency: 6.00 frames\n",
            "\n",
            "\n"
          ]
        },
        {
          "output_type": "stream",
          "name": "stderr",
          "text": [
            "100%|██████████| 1849/1849 [00:02<00:00, 890.32it/s]\n"
          ]
        },
        {
          "output_type": "stream",
          "name": "stdout",
          "text": [
            "Results for the current sequence:\n",
            "Class 1:\n",
            "  Recall: 1.00\n",
            "  Average Latency: 24.00 frames\n",
            "Class 5:\n",
            "  Recall: 1.00\n",
            "  Average Latency: 8.00 frames\n",
            "Class 10:\n",
            "  Recall: 1.00\n",
            "  Average Latency: 4.00 frames\n",
            "Class 11:\n",
            "  Recall: 0.00\n",
            "  Average Latency: No data\n",
            "Class 16:\n",
            "  Recall: 1.00\n",
            "  Average Latency: 3.00 frames\n",
            "\n",
            "\n"
          ]
        },
        {
          "output_type": "stream",
          "name": "stderr",
          "text": [
            "100%|██████████| 2115/2115 [00:02<00:00, 804.80it/s]\n"
          ]
        },
        {
          "output_type": "stream",
          "name": "stdout",
          "text": [
            "Results for the current sequence:\n",
            "Class 0:\n",
            "  Recall: 1.00\n",
            "  Average Latency: 8.00 frames\n",
            "Class 4:\n",
            "  Recall: 1.00\n",
            "  Average Latency: 1.00 frames\n",
            "Class 5:\n",
            "  Recall: 1.00\n",
            "  Average Latency: 3.00 frames\n",
            "Class 6:\n",
            "  Recall: 1.00\n",
            "  Average Latency: -3.00 frames\n",
            "Class 15:\n",
            "  Recall: 1.00\n",
            "  Average Latency: 39.00 frames\n",
            "\n",
            "\n"
          ]
        },
        {
          "output_type": "stream",
          "name": "stderr",
          "text": [
            "100%|██████████| 1620/1620 [00:01<00:00, 871.50it/s]\n"
          ]
        },
        {
          "output_type": "stream",
          "name": "stdout",
          "text": [
            "Results for the current sequence:\n",
            "Class 0:\n",
            "  Recall: 1.00\n",
            "  Average Latency: 10.00 frames\n",
            "Class 2:\n",
            "  Recall: 1.00\n",
            "  Average Latency: -1.00 frames\n",
            "Class 7:\n",
            "  Recall: 0.00\n",
            "  Average Latency: No data\n",
            "Class 8:\n",
            "  Recall: 1.00\n",
            "  Average Latency: 9.00 frames\n",
            "\n",
            "\n"
          ]
        },
        {
          "output_type": "stream",
          "name": "stderr",
          "text": [
            "100%|██████████| 2066/2066 [00:02<00:00, 784.47it/s]\n"
          ]
        },
        {
          "output_type": "stream",
          "name": "stdout",
          "text": [
            "Results for the current sequence:\n",
            "Class 3:\n",
            "  Recall: 1.00\n",
            "  Average Latency: 2.00 frames\n",
            "Class 5:\n",
            "  Recall: 1.00\n",
            "  Average Latency: 3.00 frames\n",
            "Class 12:\n",
            "  Recall: 1.00\n",
            "  Average Latency: 5.00 frames\n",
            "Class 14:\n",
            "  Recall: 0.00\n",
            "  Average Latency: No data\n",
            "Class 16:\n",
            "  Recall: 1.00\n",
            "  Average Latency: 22.00 frames\n",
            "\n",
            "\n"
          ]
        },
        {
          "output_type": "stream",
          "name": "stderr",
          "text": [
            "100%|██████████| 1276/1276 [00:01<00:00, 854.55it/s]\n"
          ]
        },
        {
          "output_type": "stream",
          "name": "stdout",
          "text": [
            "Results for the current sequence:\n",
            "Class 9:\n",
            "  Recall: 0.00\n",
            "  Average Latency: No data\n",
            "Class 10:\n",
            "  Recall: 1.00\n",
            "  Average Latency: 1.00 frames\n",
            "Class 11:\n",
            "  Recall: 0.00\n",
            "  Average Latency: No data\n",
            "Class 12:\n",
            "  Recall: 1.00\n",
            "  Average Latency: 2.00 frames\n",
            "\n",
            "\n"
          ]
        },
        {
          "output_type": "stream",
          "name": "stderr",
          "text": [
            "100%|██████████| 1497/1497 [00:01<00:00, 885.89it/s]\n"
          ]
        },
        {
          "output_type": "stream",
          "name": "stdout",
          "text": [
            "Results for the current sequence:\n",
            "Class 3:\n",
            "  Recall: 0.00\n",
            "  Average Latency: No data\n",
            "Class 8:\n",
            "  Recall: 1.00\n",
            "  Average Latency: 23.00 frames\n",
            "Class 13:\n",
            "  Recall: 1.00\n",
            "  Average Latency: 12.00 frames\n",
            "Class 16:\n",
            "  Recall: 0.00\n",
            "  Average Latency: No data\n",
            "\n",
            "\n"
          ]
        },
        {
          "output_type": "stream",
          "name": "stderr",
          "text": [
            "100%|██████████| 1820/1820 [00:02<00:00, 887.41it/s]\n"
          ]
        },
        {
          "output_type": "stream",
          "name": "stdout",
          "text": [
            "Results for the current sequence:\n",
            "Class 3:\n",
            "  Recall: 1.00\n",
            "  Average Latency: 7.00 frames\n",
            "Class 8:\n",
            "  Recall: 1.00\n",
            "  Average Latency: 5.00 frames\n",
            "Class 9:\n",
            "  Recall: 0.00\n",
            "  Average Latency: No data\n",
            "Class 13:\n",
            "  Recall: 1.00\n",
            "  Average Latency: 12.00 frames\n",
            "\n",
            "\n"
          ]
        },
        {
          "output_type": "stream",
          "name": "stderr",
          "text": [
            "100%|██████████| 1770/1770 [00:01<00:00, 888.90it/s]\n"
          ]
        },
        {
          "output_type": "stream",
          "name": "stdout",
          "text": [
            "Results for the current sequence:\n",
            "Class 5:\n",
            "  Recall: 1.00\n",
            "  Average Latency: 2.00 frames\n",
            "Class 6:\n",
            "  Recall: 1.00\n",
            "  Average Latency: 6.00 frames\n",
            "Class 8:\n",
            "  Recall: 1.00\n",
            "  Average Latency: 7.00 frames\n",
            "Class 12:\n",
            "  Recall: 1.00\n",
            "  Average Latency: -3.00 frames\n",
            "\n",
            "\n"
          ]
        },
        {
          "output_type": "stream",
          "name": "stderr",
          "text": [
            "100%|██████████| 1210/1210 [00:01<00:00, 916.65it/s] \n"
          ]
        },
        {
          "output_type": "stream",
          "name": "stdout",
          "text": [
            "Results for the current sequence:\n",
            "Class 6:\n",
            "  Recall: 1.00\n",
            "  Average Latency: 6.00 frames\n",
            "Class 13:\n",
            "  Recall: 0.00\n",
            "  Average Latency: No data\n",
            "Class 14:\n",
            "  Recall: 1.00\n",
            "  Average Latency: 16.00 frames\n",
            "Class 16:\n",
            "  Recall: 1.00\n",
            "  Average Latency: 10.00 frames\n",
            "\n",
            "\n"
          ]
        },
        {
          "output_type": "stream",
          "name": "stderr",
          "text": [
            "100%|██████████| 1551/1551 [00:01<00:00, 807.65it/s]\n"
          ]
        },
        {
          "output_type": "stream",
          "name": "stdout",
          "text": [
            "Results for the current sequence:\n",
            "Class 6:\n",
            "  Recall: 0.00\n",
            "  Average Latency: No data\n",
            "Class 8:\n",
            "  Recall: 0.00\n",
            "  Average Latency: No data\n",
            "Class 9:\n",
            "  Recall: 0.00\n",
            "  Average Latency: No data\n",
            "Class 11:\n",
            "  Recall: 0.00\n",
            "  Average Latency: No data\n",
            "Class 14:\n",
            "  Recall: 0.00\n",
            "  Average Latency: No data\n",
            "\n",
            "\n"
          ]
        },
        {
          "output_type": "stream",
          "name": "stderr",
          "text": [
            "100%|██████████| 1839/1839 [00:02<00:00, 901.91it/s]\n"
          ]
        },
        {
          "output_type": "stream",
          "name": "stdout",
          "text": [
            "Results for the current sequence:\n",
            "Class 11:\n",
            "  Recall: 0.00\n",
            "  Average Latency: No data\n",
            "Class 13:\n",
            "  Recall: 0.00\n",
            "  Average Latency: No data\n",
            "Class 15:\n",
            "  Recall: 1.00\n",
            "  Average Latency: 33.00 frames\n",
            "\n",
            "\n"
          ]
        },
        {
          "output_type": "stream",
          "name": "stderr",
          "text": [
            "100%|██████████| 1605/1605 [00:01<00:00, 924.53it/s]\n"
          ]
        },
        {
          "output_type": "stream",
          "name": "stdout",
          "text": [
            "Results for the current sequence:\n",
            "Class 0:\n",
            "  Recall: 1.00\n",
            "  Average Latency: 8.00 frames\n",
            "Class 2:\n",
            "  Recall: 0.00\n",
            "  Average Latency: No data\n",
            "Class 14:\n",
            "  Recall: 1.00\n",
            "  Average Latency: 7.00 frames\n",
            "\n",
            "\n"
          ]
        },
        {
          "output_type": "stream",
          "name": "stderr",
          "text": [
            "100%|██████████| 2109/2109 [00:02<00:00, 866.33it/s]\n"
          ]
        },
        {
          "output_type": "stream",
          "name": "stdout",
          "text": [
            "Results for the current sequence:\n",
            "Class 2:\n",
            "  Recall: 1.00\n",
            "  Average Latency: 3.00 frames\n",
            "Class 5:\n",
            "  Recall: 1.00\n",
            "  Average Latency: 0.00 frames\n",
            "Class 7:\n",
            "  Recall: 0.00\n",
            "  Average Latency: No data\n",
            "Class 12:\n",
            "  Recall: 1.00\n",
            "  Average Latency: -7.00 frames\n",
            "Class 16:\n",
            "  Recall: 1.00\n",
            "  Average Latency: 5.00 frames\n",
            "\n",
            "\n"
          ]
        },
        {
          "output_type": "stream",
          "name": "stderr",
          "text": [
            "100%|██████████| 1533/1533 [00:01<00:00, 850.18it/s]\n"
          ]
        },
        {
          "output_type": "stream",
          "name": "stdout",
          "text": [
            "Results for the current sequence:\n",
            "Class 3:\n",
            "  Recall: 1.00\n",
            "  Average Latency: 9.00 frames\n",
            "Class 8:\n",
            "  Recall: 1.00\n",
            "  Average Latency: 32.00 frames\n",
            "Class 9:\n",
            "  Recall: 0.00\n",
            "  Average Latency: No data\n",
            "Class 12:\n",
            "  Recall: 1.00\n",
            "  Average Latency: 4.00 frames\n",
            "\n",
            "\n"
          ]
        },
        {
          "output_type": "stream",
          "name": "stderr",
          "text": [
            "100%|██████████| 1447/1447 [00:01<00:00, 963.11it/s]\n"
          ]
        },
        {
          "output_type": "stream",
          "name": "stdout",
          "text": [
            "Results for the current sequence:\n",
            "Class 1:\n",
            "  Recall: 0.00\n",
            "  Average Latency: No data\n",
            "Class 12:\n",
            "  Recall: 1.00\n",
            "  Average Latency: -5.00 frames\n",
            "Class 15:\n",
            "  Recall: 1.00\n",
            "  Average Latency: 1.00 frames\n",
            "\n",
            "\n"
          ]
        },
        {
          "output_type": "stream",
          "name": "stderr",
          "text": [
            "100%|██████████| 1721/1721 [00:02<00:00, 686.26it/s]\n"
          ]
        },
        {
          "output_type": "stream",
          "name": "stdout",
          "text": [
            "Results for the current sequence:\n",
            "Class 4:\n",
            "  Recall: 1.00\n",
            "  Average Latency: 7.00 frames\n",
            "Class 5:\n",
            "  Recall: 1.00\n",
            "  Average Latency: 3.00 frames\n",
            "Class 7:\n",
            "  Recall: 1.00\n",
            "  Average Latency: 9.00 frames\n",
            "\n",
            "\n"
          ]
        },
        {
          "output_type": "stream",
          "name": "stderr",
          "text": [
            "100%|██████████| 1533/1533 [00:01<00:00, 875.90it/s]\n"
          ]
        },
        {
          "output_type": "stream",
          "name": "stdout",
          "text": [
            "Results for the current sequence:\n",
            "Class 1:\n",
            "  Recall: 1.00\n",
            "  Average Latency: 13.00 frames\n",
            "Class 3:\n",
            "  Recall: 1.00\n",
            "  Average Latency: 7.00 frames\n",
            "Class 4:\n",
            "  Recall: 1.00\n",
            "  Average Latency: 8.00 frames\n",
            "Class 9:\n",
            "  Recall: 0.00\n",
            "  Average Latency: No data\n",
            "Class 10:\n",
            "  Recall: 0.00\n",
            "  Average Latency: No data\n",
            "\n",
            "\n"
          ]
        },
        {
          "output_type": "stream",
          "name": "stderr",
          "text": [
            "100%|██████████| 1528/1528 [00:01<00:00, 864.86it/s]\n"
          ]
        },
        {
          "output_type": "stream",
          "name": "stdout",
          "text": [
            "Results for the current sequence:\n",
            "Class 3:\n",
            "  Recall: 1.00\n",
            "  Average Latency: 4.00 frames\n",
            "Class 5:\n",
            "  Recall: 1.00\n",
            "  Average Latency: 2.00 frames\n",
            "Class 7:\n",
            "  Recall: 0.00\n",
            "  Average Latency: No data\n",
            "Class 13:\n",
            "  Recall: 0.00\n",
            "  Average Latency: No data\n",
            "Class 14:\n",
            "  Recall: 0.00\n",
            "  Average Latency: No data\n",
            "\n",
            "\n"
          ]
        },
        {
          "output_type": "stream",
          "name": "stderr",
          "text": [
            "100%|██████████| 2278/2278 [00:02<00:00, 850.30it/s]\n"
          ]
        },
        {
          "output_type": "stream",
          "name": "stdout",
          "text": [
            "Results for the current sequence:\n",
            "Class 3:\n",
            "  Recall: 1.00\n",
            "  Average Latency: 4.00 frames\n",
            "Class 4:\n",
            "  Recall: 0.00\n",
            "  Average Latency: No data\n",
            "Class 5:\n",
            "  Recall: 1.00\n",
            "  Average Latency: 3.00 frames\n",
            "Class 11:\n",
            "  Recall: 1.00\n",
            "  Average Latency: 7.00 frames\n",
            "Class 15:\n",
            "  Recall: 1.00\n",
            "  Average Latency: 21.00 frames\n",
            "\n",
            "\n"
          ]
        },
        {
          "output_type": "stream",
          "name": "stderr",
          "text": [
            "100%|██████████| 1528/1528 [00:01<00:00, 851.76it/s]\n"
          ]
        },
        {
          "output_type": "stream",
          "name": "stdout",
          "text": [
            "Results for the current sequence:\n",
            "Class 0:\n",
            "  Recall: 1.00\n",
            "  Average Latency: 4.00 frames\n",
            "Class 2:\n",
            "  Recall: 1.00\n",
            "  Average Latency: 7.00 frames\n",
            "Class 9:\n",
            "  Recall: 0.00\n",
            "  Average Latency: No data\n",
            "Class 12:\n",
            "  Recall: 0.00\n",
            "  Average Latency: No data\n",
            "Class 13:\n",
            "  Recall: 0.00\n",
            "  Average Latency: No data\n",
            "\n",
            "\n"
          ]
        },
        {
          "output_type": "stream",
          "name": "stderr",
          "text": [
            "100%|██████████| 1270/1270 [00:01<00:00, 938.69it/s]\n"
          ]
        },
        {
          "output_type": "stream",
          "name": "stdout",
          "text": [
            "Results for the current sequence:\n",
            "Class 1:\n",
            "  Recall: 1.00\n",
            "  Average Latency: 7.00 frames\n",
            "Class 2:\n",
            "  Recall: 0.00\n",
            "  Average Latency: No data\n",
            "Class 11:\n",
            "  Recall: 1.00\n",
            "  Average Latency: 12.00 frames\n",
            "\n",
            "\n"
          ]
        },
        {
          "output_type": "stream",
          "name": "stderr",
          "text": [
            "100%|██████████| 786/786 [00:00<00:00, 815.73it/s]\n"
          ]
        },
        {
          "output_type": "stream",
          "name": "stdout",
          "text": [
            "Results for the current sequence:\n",
            "Class 11:\n",
            "  Recall: 1.00\n",
            "  Average Latency: 6.00 frames\n",
            "Class 12:\n",
            "  Recall: 1.00\n",
            "  Average Latency: 7.00 frames\n",
            "\n",
            "\n"
          ]
        },
        {
          "output_type": "stream",
          "name": "stderr",
          "text": [
            "100%|██████████| 1772/1772 [00:02<00:00, 787.13it/s]\n"
          ]
        },
        {
          "output_type": "stream",
          "name": "stdout",
          "text": [
            "Results for the current sequence:\n",
            "Class 3:\n",
            "  Recall: 1.00\n",
            "  Average Latency: -3.00 frames\n",
            "Class 7:\n",
            "  Recall: 1.00\n",
            "  Average Latency: 8.00 frames\n",
            "Class 13:\n",
            "  Recall: 1.00\n",
            "  Average Latency: 1.00 frames\n",
            "Class 14:\n",
            "  Recall: 1.00\n",
            "  Average Latency: 9.00 frames\n",
            "\n",
            "\n"
          ]
        },
        {
          "output_type": "stream",
          "name": "stderr",
          "text": [
            "100%|██████████| 2414/2414 [00:02<00:00, 915.81it/s]\n"
          ]
        },
        {
          "output_type": "stream",
          "name": "stdout",
          "text": [
            "Results for the current sequence:\n",
            "Class 4:\n",
            "  Recall: 1.00\n",
            "  Average Latency: 3.00 frames\n",
            "Class 7:\n",
            "  Recall: 0.00\n",
            "  Average Latency: No data\n",
            "Class 9:\n",
            "  Recall: 1.00\n",
            "  Average Latency: -4.00 frames\n",
            "Class 10:\n",
            "  Recall: 1.00\n",
            "  Average Latency: 0.00 frames\n",
            "Class 13:\n",
            "  Recall: 1.00\n",
            "  Average Latency: 2.00 frames\n",
            "\n",
            "\n"
          ]
        },
        {
          "output_type": "stream",
          "name": "stderr",
          "text": [
            "100%|██████████| 1459/1459 [00:01<00:00, 900.80it/s]\n"
          ]
        },
        {
          "output_type": "stream",
          "name": "stdout",
          "text": [
            "Results for the current sequence:\n",
            "Class 6:\n",
            "  Recall: 1.00\n",
            "  Average Latency: 8.00 frames\n",
            "Class 9:\n",
            "  Recall: 0.00\n",
            "  Average Latency: No data\n",
            "Class 10:\n",
            "  Recall: 1.00\n",
            "  Average Latency: 15.00 frames\n",
            "Class 14:\n",
            "  Recall: 0.00\n",
            "  Average Latency: No data\n",
            "\n",
            "\n"
          ]
        },
        {
          "output_type": "stream",
          "name": "stderr",
          "text": [
            "100%|██████████| 1286/1286 [00:01<00:00, 852.38it/s]\n"
          ]
        },
        {
          "output_type": "stream",
          "name": "stdout",
          "text": [
            "Results for the current sequence:\n",
            "Class 7:\n",
            "  Recall: 1.00\n",
            "  Average Latency: 7.00 frames\n",
            "Class 14:\n",
            "  Recall: 0.00\n",
            "  Average Latency: No data\n",
            "Class 15:\n",
            "  Recall: 0.00\n",
            "  Average Latency: No data\n",
            "\n",
            "\n"
          ]
        },
        {
          "output_type": "stream",
          "name": "stderr",
          "text": [
            "100%|██████████| 1568/1568 [00:01<00:00, 900.43it/s]\n"
          ]
        },
        {
          "output_type": "stream",
          "name": "stdout",
          "text": [
            "Results for the current sequence:\n",
            "Class 3:\n",
            "  Recall: 1.00\n",
            "  Average Latency: 13.00 frames\n",
            "Class 4:\n",
            "  Recall: 1.00\n",
            "  Average Latency: 10.00 frames\n",
            "Class 5:\n",
            "  Recall: 1.00\n",
            "  Average Latency: 8.00 frames\n",
            "Class 15:\n",
            "  Recall: 1.00\n",
            "  Average Latency: 8.00 frames\n",
            "\n",
            "\n"
          ]
        },
        {
          "output_type": "stream",
          "name": "stderr",
          "text": [
            "100%|██████████| 2107/2107 [00:02<00:00, 791.60it/s]\n"
          ]
        },
        {
          "output_type": "stream",
          "name": "stdout",
          "text": [
            "Results for the current sequence:\n",
            "Class 6:\n",
            "  Recall: 1.00\n",
            "  Average Latency: 4.00 frames\n",
            "Class 9:\n",
            "  Recall: 1.00\n",
            "  Average Latency: 7.00 frames\n",
            "Class 14:\n",
            "  Recall: 1.00\n",
            "  Average Latency: 7.00 frames\n",
            "Class 16:\n",
            "  Recall: 0.00\n",
            "  Average Latency: No data\n",
            "\n",
            "\n"
          ]
        },
        {
          "output_type": "stream",
          "name": "stderr",
          "text": [
            "100%|██████████| 1398/1398 [00:01<00:00, 938.04it/s]\n"
          ]
        },
        {
          "output_type": "stream",
          "name": "stdout",
          "text": [
            "Results for the current sequence:\n",
            "Class 8:\n",
            "  Recall: 0.00\n",
            "  Average Latency: No data\n",
            "Class 14:\n",
            "  Recall: 0.00\n",
            "  Average Latency: No data\n",
            "\n",
            "\n"
          ]
        },
        {
          "output_type": "stream",
          "name": "stderr",
          "text": [
            "100%|██████████| 1561/1561 [00:01<00:00, 867.99it/s]\n"
          ]
        },
        {
          "output_type": "stream",
          "name": "stdout",
          "text": [
            "Results for the current sequence:\n",
            "Class 2:\n",
            "  Recall: 1.00\n",
            "  Average Latency: 3.00 frames\n",
            "Class 14:\n",
            "  Recall: 1.00\n",
            "  Average Latency: 11.00 frames\n",
            "\n",
            "\n"
          ]
        },
        {
          "output_type": "stream",
          "name": "stderr",
          "text": [
            "100%|██████████| 1707/1707 [00:01<00:00, 947.19it/s]\n"
          ]
        },
        {
          "output_type": "stream",
          "name": "stdout",
          "text": [
            "Results for the current sequence:\n",
            "Class 1:\n",
            "  Recall: 1.00\n",
            "  Average Latency: 7.00 frames\n",
            "Class 9:\n",
            "  Recall: 0.00\n",
            "  Average Latency: No data\n",
            "Class 13:\n",
            "  Recall: 1.00\n",
            "  Average Latency: 1.00 frames\n",
            "\n",
            "\n"
          ]
        },
        {
          "output_type": "stream",
          "name": "stderr",
          "text": [
            "100%|██████████| 1681/1681 [00:01<00:00, 887.26it/s]\n"
          ]
        },
        {
          "output_type": "stream",
          "name": "stdout",
          "text": [
            "Results for the current sequence:\n",
            "Class 0:\n",
            "  Recall: 1.00\n",
            "  Average Latency: 7.00 frames\n",
            "Class 9:\n",
            "  Recall: 1.00\n",
            "  Average Latency: 13.00 frames\n",
            "Class 10:\n",
            "  Recall: 1.00\n",
            "  Average Latency: -3.00 frames\n",
            "\n",
            "\n"
          ]
        },
        {
          "output_type": "stream",
          "name": "stderr",
          "text": [
            "100%|██████████| 1232/1232 [00:01<00:00, 915.18it/s]\n"
          ]
        },
        {
          "output_type": "stream",
          "name": "stdout",
          "text": [
            "Results for the current sequence:\n",
            "Class 5:\n",
            "  Recall: 1.00\n",
            "  Average Latency: 7.00 frames\n",
            "Class 10:\n",
            "  Recall: 1.00\n",
            "  Average Latency: 5.00 frames\n",
            "Class 11:\n",
            "  Recall: 1.00\n",
            "  Average Latency: 9.00 frames\n",
            "\n",
            "\n"
          ]
        },
        {
          "output_type": "stream",
          "name": "stderr",
          "text": [
            "100%|██████████| 2262/2262 [00:02<00:00, 804.87it/s]\n"
          ]
        },
        {
          "output_type": "stream",
          "name": "stdout",
          "text": [
            "Results for the current sequence:\n",
            "Class 0:\n",
            "  Recall: 1.00\n",
            "  Average Latency: 3.00 frames\n",
            "Class 1:\n",
            "  Recall: 1.00\n",
            "  Average Latency: -1.00 frames\n",
            "Class 8:\n",
            "  Recall: 1.00\n",
            "  Average Latency: -2.00 frames\n",
            "Class 14:\n",
            "  Recall: 1.00\n",
            "  Average Latency: 16.00 frames\n",
            "Class 16:\n",
            "  Recall: 0.00\n",
            "  Average Latency: No data\n",
            "\n",
            "\n"
          ]
        },
        {
          "output_type": "stream",
          "name": "stderr",
          "text": [
            "100%|██████████| 1073/1073 [00:01<00:00, 778.80it/s]\n"
          ]
        },
        {
          "output_type": "stream",
          "name": "stdout",
          "text": [
            "Results for the current sequence:\n",
            "Class 3:\n",
            "  Recall: 1.00\n",
            "  Average Latency: 9.00 frames\n",
            "Class 13:\n",
            "  Recall: 1.00\n",
            "  Average Latency: 11.00 frames\n",
            "Class 14:\n",
            "  Recall: 1.00\n",
            "  Average Latency: 1.00 frames\n",
            "\n",
            "\n"
          ]
        },
        {
          "output_type": "stream",
          "name": "stderr",
          "text": [
            "100%|██████████| 2118/2118 [00:02<00:00, 897.48it/s]\n"
          ]
        },
        {
          "output_type": "stream",
          "name": "stdout",
          "text": [
            "Results for the current sequence:\n",
            "Class 2:\n",
            "  Recall: 1.00\n",
            "  Average Latency: 2.00 frames\n",
            "Class 6:\n",
            "  Recall: 1.00\n",
            "  Average Latency: 4.00 frames\n",
            "Class 10:\n",
            "  Recall: 1.00\n",
            "  Average Latency: 27.00 frames\n",
            "Class 12:\n",
            "  Recall: 1.00\n",
            "  Average Latency: 1.00 frames\n",
            "Class 13:\n",
            "  Recall: 1.00\n",
            "  Average Latency: 5.00 frames\n",
            "\n",
            "\n"
          ]
        },
        {
          "output_type": "stream",
          "name": "stderr",
          "text": [
            "100%|██████████| 1794/1794 [00:01<00:00, 909.61it/s]\n"
          ]
        },
        {
          "output_type": "stream",
          "name": "stdout",
          "text": [
            "Results for the current sequence:\n",
            "Class 1:\n",
            "  Recall: 1.00\n",
            "  Average Latency: 4.00 frames\n",
            "Class 6:\n",
            "  Recall: 1.00\n",
            "  Average Latency: 7.00 frames\n",
            "Class 8:\n",
            "  Recall: 1.00\n",
            "  Average Latency: 13.00 frames\n",
            "\n",
            "\n"
          ]
        },
        {
          "output_type": "stream",
          "name": "stderr",
          "text": [
            "100%|██████████| 1697/1697 [00:01<00:00, 920.61it/s]\n"
          ]
        },
        {
          "output_type": "stream",
          "name": "stdout",
          "text": [
            "Results for the current sequence:\n",
            "Class 4:\n",
            "  Recall: 1.00\n",
            "  Average Latency: 2.00 frames\n",
            "Class 8:\n",
            "  Recall: 1.00\n",
            "  Average Latency: 1.00 frames\n",
            "Class 16:\n",
            "  Recall: 1.00\n",
            "  Average Latency: 12.00 frames\n",
            "\n",
            "\n"
          ]
        },
        {
          "output_type": "stream",
          "name": "stderr",
          "text": [
            "100%|██████████| 1719/1719 [00:02<00:00, 852.58it/s]\n"
          ]
        },
        {
          "output_type": "stream",
          "name": "stdout",
          "text": [
            "Results for the current sequence:\n",
            "Class 2:\n",
            "  Recall: 1.00\n",
            "  Average Latency: -1.00 frames\n",
            "Class 8:\n",
            "  Recall: 0.00\n",
            "  Average Latency: No data\n",
            "Class 10:\n",
            "  Recall: 0.00\n",
            "  Average Latency: No data\n",
            "Class 11:\n",
            "  Recall: 0.00\n",
            "  Average Latency: No data\n",
            "\n",
            "\n"
          ]
        },
        {
          "output_type": "stream",
          "name": "stderr",
          "text": [
            "100%|██████████| 1421/1421 [00:01<00:00, 839.38it/s]\n"
          ]
        },
        {
          "output_type": "stream",
          "name": "stdout",
          "text": [
            "Results for the current sequence:\n",
            "Class 0:\n",
            "  Recall: 1.00\n",
            "  Average Latency: 7.00 frames\n",
            "Class 15:\n",
            "  Recall: 0.00\n",
            "  Average Latency: No data\n",
            "Class 16:\n",
            "  Recall: 0.00\n",
            "  Average Latency: No data\n",
            "\n",
            "\n"
          ]
        },
        {
          "output_type": "stream",
          "name": "stderr",
          "text": [
            "100%|██████████| 1320/1320 [00:01<00:00, 678.06it/s]\n"
          ]
        },
        {
          "output_type": "stream",
          "name": "stdout",
          "text": [
            "Results for the current sequence:\n",
            "Class 3:\n",
            "  Recall: 1.00\n",
            "  Average Latency: 3.00 frames\n",
            "Class 4:\n",
            "  Recall: 1.00\n",
            "  Average Latency: 10.00 frames\n",
            "Class 7:\n",
            "  Recall: 0.00\n",
            "  Average Latency: No data\n",
            "Class 8:\n",
            "  Recall: 0.00\n",
            "  Average Latency: No data\n",
            "\n",
            "\n"
          ]
        },
        {
          "output_type": "stream",
          "name": "stderr",
          "text": [
            "100%|██████████| 1368/1368 [00:01<00:00, 977.45it/s] \n"
          ]
        },
        {
          "output_type": "stream",
          "name": "stdout",
          "text": [
            "Results for the current sequence:\n",
            "Class 1:\n",
            "  Recall: 1.00\n",
            "  Average Latency: 8.00 frames\n",
            "Class 4:\n",
            "  Recall: 0.00\n",
            "  Average Latency: No data\n",
            "Class 13:\n",
            "  Recall: 0.00\n",
            "  Average Latency: No data\n",
            "\n",
            "\n"
          ]
        },
        {
          "output_type": "stream",
          "name": "stderr",
          "text": [
            "100%|██████████| 1481/1481 [00:01<00:00, 901.35it/s]\n"
          ]
        },
        {
          "output_type": "stream",
          "name": "stdout",
          "text": [
            "Results for the current sequence:\n",
            "Class 4:\n",
            "  Recall: 1.00\n",
            "  Average Latency: 11.00 frames\n",
            "Class 5:\n",
            "  Recall: 1.00\n",
            "  Average Latency: 9.00 frames\n",
            "Class 7:\n",
            "  Recall: 0.00\n",
            "  Average Latency: No data\n",
            "\n",
            "\n"
          ]
        },
        {
          "output_type": "stream",
          "name": "stderr",
          "text": [
            "100%|██████████| 1425/1425 [00:01<00:00, 906.66it/s]\n"
          ]
        },
        {
          "output_type": "stream",
          "name": "stdout",
          "text": [
            "Results for the current sequence:\n",
            "Class 2:\n",
            "  Recall: 1.00\n",
            "  Average Latency: 7.00 frames\n",
            "Class 4:\n",
            "  Recall: 1.00\n",
            "  Average Latency: 9.00 frames\n",
            "Class 11:\n",
            "  Recall: 0.00\n",
            "  Average Latency: No data\n",
            "Class 16:\n",
            "  Recall: 1.00\n",
            "  Average Latency: 9.00 frames\n",
            "\n",
            "\n"
          ]
        },
        {
          "output_type": "stream",
          "name": "stderr",
          "text": [
            "100%|██████████| 1526/1526 [00:01<00:00, 922.58it/s]\n"
          ]
        },
        {
          "output_type": "stream",
          "name": "stdout",
          "text": [
            "Results for the current sequence:\n",
            "Class 0:\n",
            "  Recall: 1.00\n",
            "  Average Latency: 9.00 frames\n",
            "Class 5:\n",
            "  Recall: 1.00\n",
            "  Average Latency: 5.00 frames\n",
            "Class 14:\n",
            "  Recall: 1.00\n",
            "  Average Latency: 3.00 frames\n",
            "Class 15:\n",
            "  Recall: 0.00\n",
            "  Average Latency: No data\n",
            "\n",
            "\n"
          ]
        },
        {
          "output_type": "stream",
          "name": "stderr",
          "text": [
            "100%|██████████| 1359/1359 [00:01<00:00, 788.20it/s]\n"
          ]
        },
        {
          "output_type": "stream",
          "name": "stdout",
          "text": [
            "Results for the current sequence:\n",
            "Class 1:\n",
            "  Recall: 0.00\n",
            "  Average Latency: No data\n",
            "Class 4:\n",
            "  Recall: 1.00\n",
            "  Average Latency: 7.00 frames\n",
            "Class 10:\n",
            "  Recall: 0.00\n",
            "  Average Latency: No data\n",
            "Class 16:\n",
            "  Recall: 1.00\n",
            "  Average Latency: 1.00 frames\n",
            "\n",
            "\n"
          ]
        },
        {
          "output_type": "stream",
          "name": "stderr",
          "text": [
            "100%|██████████| 1448/1448 [00:01<00:00, 939.47it/s]\n"
          ]
        },
        {
          "output_type": "stream",
          "name": "stdout",
          "text": [
            "Results for the current sequence:\n",
            "Class 7:\n",
            "  Recall: 1.00\n",
            "  Average Latency: -2.00 frames\n",
            "Class 10:\n",
            "  Recall: 1.00\n",
            "  Average Latency: 1.00 frames\n",
            "Class 12:\n",
            "  Recall: 1.00\n",
            "  Average Latency: 2.00 frames\n",
            "\n",
            "\n"
          ]
        },
        {
          "output_type": "stream",
          "name": "stderr",
          "text": [
            "100%|██████████| 1492/1492 [00:01<00:00, 823.96it/s]\n"
          ]
        },
        {
          "output_type": "stream",
          "name": "stdout",
          "text": [
            "Results for the current sequence:\n",
            "Class 6:\n",
            "  Recall: 1.00\n",
            "  Average Latency: 0.00 frames\n",
            "Class 7:\n",
            "  Recall: 0.00\n",
            "  Average Latency: No data\n",
            "Class 12:\n",
            "  Recall: 1.00\n",
            "  Average Latency: 4.00 frames\n",
            "Class 16:\n",
            "  Recall: 1.00\n",
            "  Average Latency: 1.00 frames\n",
            "\n",
            "\n"
          ]
        },
        {
          "output_type": "stream",
          "name": "stderr",
          "text": [
            "100%|██████████| 1485/1485 [00:01<00:00, 945.82it/s] \n"
          ]
        },
        {
          "output_type": "stream",
          "name": "stdout",
          "text": [
            "Results for the current sequence:\n",
            "Class 3:\n",
            "  Recall: 0.00\n",
            "  Average Latency: No data\n",
            "Class 6:\n",
            "  Recall: 1.00\n",
            "  Average Latency: 3.00 frames\n",
            "Class 9:\n",
            "  Recall: 0.00\n",
            "  Average Latency: No data\n",
            "\n",
            "\n"
          ]
        },
        {
          "output_type": "stream",
          "name": "stderr",
          "text": [
            "100%|██████████| 1384/1384 [00:01<00:00, 857.83it/s]\n"
          ]
        },
        {
          "output_type": "stream",
          "name": "stdout",
          "text": [
            "Results for the current sequence:\n",
            "Class 0:\n",
            "  Recall: 1.00\n",
            "  Average Latency: 12.00 frames\n",
            "Class 2:\n",
            "  Recall: 1.00\n",
            "  Average Latency: 9.00 frames\n",
            "Class 6:\n",
            "  Recall: 1.00\n",
            "  Average Latency: 3.00 frames\n",
            "Class 12:\n",
            "  Recall: 1.00\n",
            "  Average Latency: 2.00 frames\n",
            "Class 15:\n",
            "  Recall: 1.00\n",
            "  Average Latency: 8.00 frames\n",
            "\n",
            "\n",
            "Overall Results:\n",
            "Class 0:\n",
            "  Total Recall: 1.00\n",
            "  Total Average Latency: 6.6875 frames\n",
            "Class 1:\n",
            "  Total Recall: 0.88\n",
            "  Total Average Latency: 6.5714 frames\n",
            "Class 2:\n",
            "  Total Recall: 0.88\n",
            "  Total Average Latency: 3.5000 frames\n",
            "Class 3:\n",
            "  Total Recall: 0.88\n",
            "  Total Average Latency: 5.2143 frames\n",
            "Class 4:\n",
            "  Total Recall: 0.81\n",
            "  Total Average Latency: 7.1538 frames\n",
            "Class 5:\n",
            "  Total Recall: 1.00\n",
            "  Total Average Latency: 4.5625 frames\n",
            "Class 6:\n",
            "  Total Recall: 0.88\n",
            "  Total Average Latency: 2.7857 frames\n",
            "Class 7:\n",
            "  Total Recall: 0.31\n",
            "  Total Average Latency: 5.0000 frames\n",
            "Class 8:\n",
            "  Total Recall: 0.62\n",
            "  Total Average Latency: 10.6000 frames\n",
            "Class 9:\n",
            "  Total Recall: 0.38\n",
            "  Total Average Latency: 5.1667 frames\n",
            "Class 10:\n",
            "  Total Recall: 0.62\n",
            "  Total Average Latency: 7.3000 frames\n",
            "Class 11:\n",
            "  Total Recall: 0.38\n",
            "  Total Average Latency: 6.5000 frames\n",
            "Class 12:\n",
            "  Total Recall: 0.88\n",
            "  Total Average Latency: 2.0000 frames\n",
            "Class 13:\n",
            "  Total Recall: 0.64\n",
            "  Total Average Latency: 7.6667 frames\n",
            "Class 14:\n",
            "  Total Recall: 0.62\n",
            "  Total Average Latency: 8.5000 frames\n",
            "Class 15:\n",
            "  Total Recall: 0.69\n",
            "  Total Average Latency: 10.6364 frames\n",
            "Class 16:\n",
            "  Total Recall: 0.56\n",
            "  Total Average Latency: 8.6667 frames\n",
            "\n",
            "\n",
            "Overall Results:\n",
            "Class 0:\n",
            "  Total Average Jaccard Index: No data\n",
            "Class 1:\n",
            "  Total Average Jaccard Index: No data\n",
            "Class 2:\n",
            "  Total Average Jaccard Index: No data\n",
            "Class 3:\n",
            "  Total Average Jaccard Index: No data\n",
            "Class 4:\n",
            "  Total Average Jaccard Index: No data\n",
            "Class 5:\n",
            "  Total Average Jaccard Index: No data\n",
            "Class 6:\n",
            "  Total Average Jaccard Index: No data\n",
            "Class 7:\n",
            "  Total Average Jaccard Index: No data\n",
            "Class 8:\n",
            "  Total Average Jaccard Index: No data\n",
            "Class 9:\n",
            "  Total Average Jaccard Index: No data\n",
            "Class 10:\n",
            "  Total Average Jaccard Index: No data\n",
            "Class 11:\n",
            "  Total Average Jaccard Index: No data\n",
            "Class 12:\n",
            "  Total Average Jaccard Index: No data\n",
            "Class 13:\n",
            "  Total Average Jaccard Index: No data\n",
            "Class 14:\n",
            "  Total Average Jaccard Index: No data\n",
            "Class 15:\n",
            "  Total Average Jaccard Index: No data\n",
            "Class 16:\n",
            "  Total Average Jaccard Index: No data\n",
            "\n",
            "\n",
            "Global Results:\n",
            "Class 0:\n",
            "  False Positive Rate: 0.00\n",
            "Class 1:\n",
            "  False Positive Rate: 0.00\n",
            "Class 2:\n",
            "  False Positive Rate: 0.00\n",
            "Class 3:\n",
            "  False Positive Rate: 0.00\n",
            "Class 4:\n",
            "  False Positive Rate: 0.00\n",
            "Class 5:\n",
            "  False Positive Rate: 0.00\n",
            "Class 6:\n",
            "  False Positive Rate: 0.00\n",
            "Class 7:\n",
            "  False Positive Rate: 0.00\n",
            "Class 8:\n",
            "  False Positive Rate: 0.00\n",
            "Class 9:\n",
            "  False Positive Rate: 0.00\n",
            "Class 10:\n",
            "  False Positive Rate: 0.00\n",
            "Class 11:\n",
            "  False Positive Rate: 0.00\n",
            "Class 12:\n",
            "  False Positive Rate: 0.00\n",
            "Class 13:\n",
            "  False Positive Rate: 0.00\n",
            "Class 14:\n",
            "  False Positive Rate: 0.00\n",
            "Class 15:\n",
            "  False Positive Rate: 0.00\n",
            "Class 16:\n",
            "  False Positive Rate: 0.00\n",
            "\n",
            "\n"
          ]
        },
        {
          "output_type": "display_data",
          "data": {
            "text/plain": [
              "<Figure size 1000x600 with 1 Axes>"
            ],
            "image/png": "[encoded data removed]"
          },
          "metadata": {}
        }
      ],
      "source": [
        "import numpy as np\n",
        "import torch\n",
        "import matplotlib.pyplot as plt\n",
        "\n",
        "# Initialize global statistics\n",
        "num_classes = 17\n",
        "global_total_gestures = [0] * num_classes\n",
        "global_correct_predictions = [0] * num_classes\n",
        "global_latencies = [[] for _ in range(num_classes)]\n",
        "global_jaccard_indices = [[] for _ in range(num_classes)]\n",
        "global_false_positives = [0] * num_classes\n",
        "fname_ = '{}/test_set/annotations_revised.txt'.format(MAIN_FOLDER)\n",
        "\n",
        "\n",
        "def evaluate_jaccard_index(frame_sequence, y_true, gating_list, y_pred_list, num_classes=17):\n",
        "\n",
        "    # Initialize local statistics variables\n",
        "    total_gestures = [0] * num_classes\n",
        "    correct_predictions = [0] * num_classes\n",
        "    latencies = [[] for _ in range(num_classes)]\n",
        "    jaccard_indices = [[] for _ in range(num_classes)]  # Store the Jaccard index for each category\n",
        "\n",
        "    num_gestures = len(frame_sequence) // 2\n",
        "\n",
        "    # Construct the true label sequence and update the total number of gestures\n",
        "    for i in range(num_gestures):\n",
        "        s_true = frame_sequence[2 * i]\n",
        "        e_true = frame_sequence[2 * i + 1]\n",
        "        true_class = y_true[i]\n",
        "\n",
        "        # Update total gesture count\n",
        "        total_gestures[true_class] += 1\n",
        "\n",
        "        # Calculate the overlap between the predicted boundary and the true boundary\n",
        "        s_pred = min(gating_list, key=lambda x: abs(x - s_true))\n",
        "        e_pred = min(gating_list, key=lambda x: abs(x - e_true))\n",
        "\n",
        "        # Ensure s_pred <= e_pred\n",
        "        if s_pred > e_pred:\n",
        "            s_pred, e_pred = e_pred, s_pred\n",
        "\n",
        "        # Define evaluation intervals to cover both real and predicted gesture areas\n",
        "        start = min(s_true, s_pred)\n",
        "        end = max(e_true, e_pred)\n",
        "\n",
        "        # Initialize binary vector\n",
        "        gt_sequence = [0] * (end - start + 1)\n",
        "        pred_sequence = [0] * (end - start + 1)\n",
        "\n",
        "        # Fill in the location where the real gesture exists\n",
        "        for idx in range(s_true - start, e_true - start + 1):\n",
        "            gt_sequence[idx] = 1\n",
        "\n",
        "        # Fill in the predicted gesture location (only if the predicted category matches the true category)\n",
        "        for idx in range(s_pred - start, e_pred - start + 1):\n",
        "            frame_idx = start + idx\n",
        "            if y_pred_list[frame_idx] == true_class:\n",
        "                pred_sequence[idx] = 1\n",
        "\n",
        "        # Computing intersections and unions\n",
        "        intersection = sum(1 for gt, pred in zip(gt_sequence, pred_sequence) if gt == 1 and pred == 1)\n",
        "        union = sum(1 for gt, pred in zip(gt_sequence, pred_sequence) if gt == 1 or pred == 1)\n",
        "\n",
        "        # Calculate the Jaccard index\n",
        "        jaccard = intersection / union if union != 0 else 0\n",
        "\n",
        "        # Add the result to the list of the corresponding category\n",
        "        jaccard_indices[true_class].append(jaccard)\n",
        "\n",
        "    # Calculate the average Jaccard index for each category\n",
        "    average_jaccards = []\n",
        "    for indices in jaccard_indices:\n",
        "        if indices:\n",
        "            avg_jaccard = sum(indices) / len(indices)\n",
        "        else:\n",
        "            avg_jaccard = None\n",
        "        average_jaccards.append(avg_jaccard)\n",
        "\n",
        "    # Update global statistics variables\n",
        "    for i in range(num_classes):\n",
        "        global_total_gestures[i] += total_gestures[i]\n",
        "        # If necessary, the global correct prediction count and delay can be updated\n",
        "        # global_correct_predictions[i] += correct_predictions[i]\n",
        "        # global_latencies[i].extend(latencies[i])\n",
        "\n",
        "        # Update the global Jaccard index list\n",
        "        if average_jaccards[i] is not None:\n",
        "            global_jaccard_indices[i].append(average_jaccards[i])\n",
        "\n",
        "    # Output the results of the current sequence\n",
        "    print(f\"Results for the current sequence:\")\n",
        "    for i in range(num_classes):\n",
        "        if average_jaccards[i] is not None:\n",
        "            print(f\"Class {i}: Average Jaccard Index: {average_jaccards[i]:.2f}\")\n",
        "        else:\n",
        "            print(f\"Class {i}: No data\")\n",
        "    print(\"\\n\")\n",
        "\n",
        "\n",
        "def evaluate_detection_rate(frame_sequence, y_true, gating_list, y_pred_list, num_classes=17):\n",
        "    # Local statistics\n",
        "    total_gestures = [0] * num_classes\n",
        "    correct_predictions = [0] * num_classes\n",
        "    latencies = [[] for _ in range(num_classes)]\n",
        "\n",
        "    num_gestures = len(frame_sequence) // 2\n",
        "\n",
        "    for i in range(num_gestures):\n",
        "        s_true = frame_sequence[2 * i]\n",
        "        e_true = frame_sequence[2 * i + 1]\n",
        "        true_class = y_true[i]\n",
        "\n",
        "        # Update total gestures\n",
        "        total_gestures[true_class] += 1  # Class indices from 0 to 16\n",
        "\n",
        "        # Find the closest predicted boundaries to the true boundaries\n",
        "        s_pred = min(gating_list, key=lambda x: abs(x - s_true))\n",
        "        e_pred = min(gating_list, key=lambda x: abs(x - e_true))\n",
        "\n",
        "        # Ensure s_pred <= e_pred\n",
        "        if s_pred > e_pred:\n",
        "            s_pred, e_pred = e_pred, s_pred\n",
        "\n",
        "        # Extract predictions within the predicted interval\n",
        "        y_pred_interval = y_pred_list[s_pred:e_pred + 1]\n",
        "        #print(y_pred_interval)\n",
        "        y_pred_interval = [label for label in y_pred_interval if label != -1]\n",
        "\n",
        "        if not y_pred_interval:\n",
        "\n",
        "            continue  # No valid predictions in this interval\n",
        "\n",
        "        # Determine the most frequent class label\n",
        "        predicted_class = max(set(y_pred_interval), key=y_pred_interval.count)\n",
        "\n",
        "        # Calculate Intersection over Union (IoU)\n",
        "        intersection = max(0, abs(min(e_true, e_pred) - max(s_true, s_pred)) + 1)\n",
        "        union = max(e_true, e_pred) - min(s_true, s_pred) + 1\n",
        "        iou = intersection / union\n",
        "        #print(predicted_class, true_class)\n",
        "\n",
        "        # Check if prediction is correct\n",
        "        if predicted_class == true_class and iou > 0.5:\n",
        "            # Update correct predictions\n",
        "            correct_predictions[true_class] += 1\n",
        "\n",
        "\n",
        "            # Calculate latency\n",
        "            # Find the first occurrence of the predicted class in y_pred_list within the predicted interval\n",
        "            for idx in range(s_pred, e_pred + 1):\n",
        "                if y_pred_list[idx] == predicted_class:\n",
        "                    first_correct_frame = idx\n",
        "                    break\n",
        "            else:\n",
        "                first_correct_frame = s_pred  # Default to s_pred if not found\n",
        "\n",
        "            latency = first_correct_frame - s_true\n",
        "            latencies[true_class].append(latency)\n",
        "\n",
        "    # Update global statistics (assuming global variables are defined elsewhere)\n",
        "    for i in range(num_classes):\n",
        "        global_total_gestures[i] += total_gestures[i]\n",
        "        global_correct_predictions[i] += correct_predictions[i]\n",
        "        global_latencies[i].extend(latencies[i])\n",
        "\n",
        "    # Calculate recall and average latency for this sequence\n",
        "    recalls = []\n",
        "    average_latencies = []\n",
        "    for i in range(num_classes):\n",
        "        if total_gestures[i] > 0:\n",
        "            recall = correct_predictions[i] / total_gestures[i]\n",
        "        else:\n",
        "            recall = None\n",
        "        recalls.append(recall)\n",
        "\n",
        "        if latencies[i]:\n",
        "            avg_latency = sum(latencies[i]) / len(latencies[i])\n",
        "        else:\n",
        "            avg_latency = None\n",
        "        average_latencies.append(avg_latency)\n",
        "\n",
        "    # Output results for this sequence\n",
        "    print(f\"Results for the current sequence:\")\n",
        "    for i in range(num_classes):\n",
        "        if total_gestures[i] > 0:\n",
        "            print(f\"Class {i}:\")\n",
        "            print(f\"  Recall: {recalls[i]:.2f}\")\n",
        "            if average_latencies[i] is not None:\n",
        "                print(f\"  Average Latency: {average_latencies[i]:.2f} frames\")\n",
        "            else:\n",
        "                print(\"  Average Latency: No data\")\n",
        "    print(\"\\n\")\n",
        "\n",
        "def evaluate_model_with_fpr(frame_sequence, y_true, gating_list, y_pred_list, num_classes=17):\n",
        "    global global_total_gestures\n",
        "    global global_false_positives\n",
        "\n",
        "    # Initialize local statistics variables\n",
        "    total_gestures = [0] * num_classes  # The total number of true gestures for each category\n",
        "    false_positives = [0] * num_classes  # The number of false positives for each class\n",
        "    num_gestures = len(frame_sequence) // 2  # The number of real gestures\n",
        "\n",
        "    # Constructing a list of prediction intervals\n",
        "    predicted_intervals = []\n",
        "    num_preds = len(gating_list) // 2\n",
        "    for i in range(num_preds):\n",
        "        s_pred = gating_list[2 * i]\n",
        "        e_pred = gating_list[2 * i + 1]\n",
        "        predicted_intervals.append({'start': s_pred, 'end': e_pred, 'used': False})\n",
        "\n",
        "    # Iterate through each real gesture\n",
        "    for i in range(num_gestures):\n",
        "        s_true = frame_sequence[2 * i]\n",
        "        e_true = frame_sequence[2 * i + 1]\n",
        "        true_class = y_true[i]\n",
        "        total_gestures[true_class] += 1  # Update the total number of real gestures\n",
        "\n",
        "        # Find the predicted boundary that is closest to the true gesture boundary\n",
        "        all_boundaries = [interval['start'] for interval in predicted_intervals if not interval['used']] + \\\n",
        "                         [interval['end'] for interval in predicted_intervals if not interval['used']]\n",
        "        if not all_boundaries:\n",
        "            continue  # No unused prediction boundaries, skipping\n",
        "\n",
        "        s_pred = min(all_boundaries, key=lambda x: abs(x - s_true))\n",
        "        e_pred = min(all_boundaries, key=lambda x: abs(x - e_true))\n",
        "\n",
        "        # Ensure s_pred <= e_pred\n",
        "        if s_pred > e_pred:\n",
        "            s_pred, e_pred = e_pred, s_pred\n",
        "\n",
        "        # Mark which prediction intervals are used\n",
        "        used_intervals = []\n",
        "        for idx, interval in enumerate(predicted_intervals):\n",
        "            if interval['used']:\n",
        "                continue\n",
        "            # Determine whether the prediction interval overlaps with the combined interval\n",
        "            if interval['end'] >= s_pred and interval['start'] <= e_pred:\n",
        "                predicted_intervals[idx]['used'] = True\n",
        "                used_intervals.append(interval)\n",
        "\n",
        "        # If no prediction interval is matched, skip\n",
        "        if not used_intervals:\n",
        "            continue\n",
        "\n",
        "        # Extract the prediction labels within the combined prediction interval\n",
        "        y_pred_interval = y_pred_list[s_pred:e_pred + 1]\n",
        "        y_pred_interval = [label for label in y_pred_interval if label != -1]\n",
        "        if not y_pred_interval:\n",
        "            continue  # No valid prediction, skipping\n",
        "\n",
        "        # Determine the most frequent prediction category\n",
        "        predicted_class = max(set(y_pred_interval), key=y_pred_interval.count)\n",
        "\n",
        "        # Calculate the Intersection over Union (IoU)\n",
        "        intersection = max(0, min(e_true, e_pred) - max(s_true, s_pred) + 1)\n",
        "        union = max(e_true, e_pred) - min(s_true, s_pred) + 1\n",
        "        iou = intersection / union\n",
        "\n",
        "        # Determine whether the prediction is correct\n",
        "        if not (predicted_class == true_class and iou > 0.5):\n",
        "            # Prediction error, counted as false positive\n",
        "            false_positives[predicted_class] += 1\n",
        "\n",
        "    # Count the remaining unused prediction intervals as false positives\n",
        "    for interval in predicted_intervals:\n",
        "        if interval['used']:\n",
        "            continue\n",
        "        s_pred = interval['start']\n",
        "        e_pred = interval['end']\n",
        "        # Extract the predicted labels within the prediction interval\n",
        "        y_pred_interval = y_pred_list[s_pred:e_pred + 1]\n",
        "        y_pred_interval = [label for label in y_pred_interval if label != -1]\n",
        "        if not y_pred_interval:\n",
        "            continue  # No valid prediction, skipping\n",
        "        # Determine the most frequent prediction category\n",
        "        predicted_class = max(set(y_pred_interval), key=y_pred_interval.count)\n",
        "        false_positives[predicted_class] += 1\n",
        "\n",
        "    # Update global statistics variables\n",
        "    for i in range(num_classes):\n",
        "        global_total_gestures[i] += total_gestures[i]\n",
        "        global_false_positives[i] += false_positives[i]\n",
        "\n",
        "    # Calculate the false positive rate of this sequence\n",
        "    fprs = []\n",
        "    for i in range(num_classes):\n",
        "        denom = false_positives[i] + total_gestures[i]\n",
        "        if denom > 0:\n",
        "            fpr = false_positives[i] / denom\n",
        "        else:\n",
        "            fpr = None\n",
        "        fprs.append(fpr)\n",
        "\n",
        "    # Output the results of this sequence\n",
        "    print(f\"Results for the current sequence:\")\n",
        "    for i in range(num_classes):\n",
        "        if total_gestures[i] > 0 or false_positives[i] > 0:\n",
        "            print(f\"Class {i}:\")\n",
        "            if fprs[i] is not None:\n",
        "                print(f\"  False Positive Rate: {fprs[i]:.2f}\")\n",
        "            else:\n",
        "                print(f\"  False Positive Rate: No data\")\n",
        "    print(\"\\n\")\n",
        "\n",
        "\n",
        "\n",
        "\n",
        "\n",
        "# Main loop to process multiple sequences\n",
        "for idx in range(109, 181):  # Adjust the sequence range as needed\n",
        "    filename = '{}/test_set/sequences/{}.txt'.format(MAIN_FOLDER, idx)\n",
        "    data_ = np.genfromtxt(filename, delimiter=';')\n",
        "    data = np.delete(data_, -1, axis=1)\n",
        "    data = select_joint(data)\n",
        "    data = torch.from_numpy(data).float()\n",
        "\n",
        "    label, frame_sequence = read_annotation_idx(fname_, idx - 109)\n",
        "    frame_sequence = np.reshape(frame_sequence, (-1))\n",
        "    frame_sequence = torch.tensor(frame_sequence, dtype=torch.int32)\n",
        "\n",
        "    classes = ['ONE', 'TWO', 'THREE', 'FOUR', 'OK', 'MENU', 'LEFT', 'RIGHT', 'CIRCLE',\n",
        "               'V', 'CROSS', 'GRAB', 'PINCH', 'TAP', 'DENY', 'KNOB', 'EXPAND']\n",
        "    class_to_index = {class_name: idx for idx, class_name in enumerate(classes)}\n",
        "    y_true = [class_to_index[x] for x in label]\n",
        "\n",
        "    y_pred_list, outputs_list, y_pred_value_list, gating_list = online_rec_frame_based(my_unitBi.module, my_unitMu.module, 250, 1, data)\n",
        "\n",
        "    # Call evaluate_model function\n",
        "    #evaluate_model_with_fpr(frame_sequence, y_true, gating_list, y_pred_list)\n",
        "    evaluate_detection_rate(frame_sequence, y_true, gating_list, y_pred_list)\n",
        "    #evaluate_jaccard_index(frame_sequence, y_true, gating_list, y_pred_list)\n",
        "\n",
        "# After processing all sequences, calculate overall recall and average latency\n",
        "final_recalls = []\n",
        "final_average_latencies = []\n",
        "final_average_jaccard_indices = []\n",
        "for i in range(num_classes):\n",
        "    if global_total_gestures[i] > 0:\n",
        "        recall = global_correct_predictions[i] / global_total_gestures[i]\n",
        "    else:\n",
        "        recall = None\n",
        "    final_recalls.append(recall)\n",
        "\n",
        "    if global_latencies[i]:\n",
        "        avg_latency = sum(global_latencies[i]) / len(global_latencies[i])\n",
        "    else:\n",
        "        avg_latency = None\n",
        "    final_average_latencies.append(avg_latency)\n",
        "\n",
        "\n",
        "# Output overall results\n",
        "print(\"Overall Results:\")\n",
        "for i in range(num_classes):\n",
        "    if global_total_gestures[i] > 0:\n",
        "        print(f\"Class {i}:\")\n",
        "        print(f\"  Total Recall: {final_recalls[i]:.2f}\")\n",
        "        if final_average_latencies[i] is not None:\n",
        "            print(f\"  Total Average Latency: {final_average_latencies[i]:.4f} frames\")\n",
        "        else:\n",
        "            print(\"  Total Average Latency: No data\")\n",
        "print(\"\\n\")\n",
        "\n",
        "# After processing all sequences, the global average Jaccard index for each category is calculated\n",
        "final_average_jaccard_indices = []\n",
        "for i in range(num_classes):\n",
        "    if global_jaccard_indices[i]:\n",
        "        average_jaccard = sum(global_jaccard_indices[i]) / len(global_jaccard_indices[i])\n",
        "    else:\n",
        "        average_jaccard = None\n",
        "    final_average_jaccard_indices.append(average_jaccard)\n",
        "\n",
        "# Output overall results\n",
        "print(\"Overall Results:\")\n",
        "for i in range(num_classes):\n",
        "    if global_total_gestures[i] > 0:\n",
        "        print(f\"Class {i}:\")\n",
        "        if final_average_jaccard_indices[i] is not None:\n",
        "            print(f\"  Total Average Jaccard Index: {final_average_jaccard_indices[i]:.4f}\")\n",
        "        else:\n",
        "            print(\"  Total Average Jaccard Index: No data\")\n",
        "print(\"\\n\")\n",
        "\n",
        "# After all sequences are processed, the global result is calculated and output\n",
        "print(\"Global Results:\")\n",
        "for i in range(num_classes):\n",
        "    denom = global_false_positives[i] + global_total_gestures[i]\n",
        "    if denom > 0:\n",
        "        fpr = global_false_positives[i] / denom\n",
        "    else:\n",
        "        fpr = None\n",
        "\n",
        "    if global_total_gestures[i] > 0 or global_false_positives[i] > 0:\n",
        "        print(f\"Class {i}:\")\n",
        "        if fpr is not None:\n",
        "            print(f\"  False Positive Rate: {fpr:.2f}\")\n",
        "        else:\n",
        "            print(f\"  False Positive Rate: No data\")\n",
        "\n",
        "print(\"\\n\")\n",
        "\n",
        "\n",
        "# Plotting the recall rates as a bar chart\n",
        "# Replace None with 0 for plotting purposes\n",
        "plot_recalls = [recall if recall is not None else 0 for recall in final_recalls]\n",
        "\n",
        "plt.figure(figsize=(10, 6))\n",
        "plt.bar(range(num_classes), plot_recalls, tick_label=classes)\n",
        "plt.xlabel('Gesture Classes')\n",
        "plt.ylabel('Detection Rate')\n",
        "plt.title('Detection Rates for Each Gesture Class')\n",
        "plt.xticks(rotation=45)\n",
        "plt.ylim(0, 1.0)\n",
        "plt.grid(axis='y', linestyle='--', alpha=0.7)\n",
        "plt.tight_layout()\n",
        "plt.show()\n"
      ]
    }
  ],
  "metadata": {
    "accelerator": "GPU",
    "colab": {
      "gpuType": "L4",
      "machine_shape": "hm",
      "provenance": []
    },
    "kernelspec": {
      "display_name": "Python 3",
      "name": "python3"
    },
    "language_info": {
      "name": "python"
    }
  },
  "nbformat": 4,
  "nbformat_minor": 0
}
